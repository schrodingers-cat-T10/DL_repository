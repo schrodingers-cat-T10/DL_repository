{
 "cells": [
  {
   "cell_type": "code",
   "execution_count": 3,
   "metadata": {
    "execution": {
     "iopub.execute_input": "2025-01-06T17:51:19.285622Z",
     "iopub.status.busy": "2025-01-06T17:51:19.285034Z",
     "iopub.status.idle": "2025-01-06T17:51:30.381698Z",
     "shell.execute_reply": "2025-01-06T17:51:30.380325Z",
     "shell.execute_reply.started": "2025-01-06T17:51:19.285577Z"
    },
    "trusted": true
   },
   "outputs": [],
   "source": [
    "import pandas as pd \n",
    "import numpy as np\n",
    "import matplotlib.pyplot as plt\n",
    "from tensorflow.keras.layers import Dense,Conv1D,LSTM,GRU,Flatten,MaxPooling2D,Conv2D\n",
    "from tensorflow.keras.models import Sequential\n",
    "from tensorflow.keras.optimizers import Adam\n",
    "from sklearn.model_selection import train_test_split\n",
    "from sklearn.preprocessing import StandardScaler\n",
    "from sklearn.decomposition  import PCA\n",
    "from sklearn.preprocessing import LabelEncoder"
   ]
  },
  {
   "cell_type": "code",
   "execution_count": 4,
   "metadata": {
    "execution": {
     "iopub.execute_input": "2025-01-06T17:51:30.387840Z",
     "iopub.status.busy": "2025-01-06T17:51:30.387512Z",
     "iopub.status.idle": "2025-01-06T17:51:30.446469Z",
     "shell.execute_reply": "2025-01-06T17:51:30.445316Z",
     "shell.execute_reply.started": "2025-01-06T17:51:30.387770Z"
    },
    "trusted": true
   },
   "outputs": [
    {
     "data": {
      "text/html": [
       "<div>\n",
       "<style scoped>\n",
       "    .dataframe tbody tr th:only-of-type {\n",
       "        vertical-align: middle;\n",
       "    }\n",
       "\n",
       "    .dataframe tbody tr th {\n",
       "        vertical-align: top;\n",
       "    }\n",
       "\n",
       "    .dataframe thead th {\n",
       "        text-align: right;\n",
       "    }\n",
       "</style>\n",
       "<table border=\"1\" class=\"dataframe\">\n",
       "  <thead>\n",
       "    <tr style=\"text-align: right;\">\n",
       "      <th></th>\n",
       "      <th>Serial Number</th>\n",
       "      <th>Unnamed: 0.1</th>\n",
       "      <th>Unnamed: 0</th>\n",
       "      <th>Company Name</th>\n",
       "      <th>Location</th>\n",
       "      <th>Datum</th>\n",
       "      <th>Detail</th>\n",
       "      <th>Status Rocket</th>\n",
       "      <th>Rocket</th>\n",
       "      <th>Status Mission</th>\n",
       "    </tr>\n",
       "  </thead>\n",
       "  <tbody>\n",
       "    <tr>\n",
       "      <th>0</th>\n",
       "      <td>3677</td>\n",
       "      <td>3676</td>\n",
       "      <td>3676</td>\n",
       "      <td>RVSN USSR</td>\n",
       "      <td>Site 41/1, Plesetsk Cosmodrome, Russia</td>\n",
       "      <td>Thu Apr 18, 1968 10:30 UTC</td>\n",
       "      <td>Voskhod | Cosmos 214</td>\n",
       "      <td>StatusRetired</td>\n",
       "      <td>NaN</td>\n",
       "      <td>1</td>\n",
       "    </tr>\n",
       "    <tr>\n",
       "      <th>1</th>\n",
       "      <td>64</td>\n",
       "      <td>63</td>\n",
       "      <td>63</td>\n",
       "      <td>CASC</td>\n",
       "      <td>LC-101, Wenchang Satellite Launch Center, China</td>\n",
       "      <td>Fri Dec 27, 2019 12:45 UTC</td>\n",
       "      <td>Long March 5 | Shijian-20</td>\n",
       "      <td>StatusActive</td>\n",
       "      <td>NaN</td>\n",
       "      <td>1</td>\n",
       "    </tr>\n",
       "    <tr>\n",
       "      <th>2</th>\n",
       "      <td>3930</td>\n",
       "      <td>3929</td>\n",
       "      <td>3929</td>\n",
       "      <td>RVSN USSR</td>\n",
       "      <td>Site 86/1, Kapustin Yar, Russia</td>\n",
       "      <td>Thu Nov 04, 1965 05:31 UTC</td>\n",
       "      <td>Cosmos-2I (63SM) | Cosmos 95</td>\n",
       "      <td>StatusRetired</td>\n",
       "      <td>NaN</td>\n",
       "      <td>1</td>\n",
       "    </tr>\n",
       "    <tr>\n",
       "      <th>3</th>\n",
       "      <td>2035</td>\n",
       "      <td>2034</td>\n",
       "      <td>2034</td>\n",
       "      <td>RVSN USSR</td>\n",
       "      <td>Site 41/1, Plesetsk Cosmodrome, Russia</td>\n",
       "      <td>Sat Nov 15, 1986 21:35 UTC</td>\n",
       "      <td>Molniya-M /Block ML | Molniya-1 n†­127</td>\n",
       "      <td>StatusRetired</td>\n",
       "      <td>NaN</td>\n",
       "      <td>1</td>\n",
       "    </tr>\n",
       "    <tr>\n",
       "      <th>4</th>\n",
       "      <td>1310</td>\n",
       "      <td>1309</td>\n",
       "      <td>1309</td>\n",
       "      <td>VKS RF</td>\n",
       "      <td>Site 32/1, Plesetsk Cosmodrome, Russia</td>\n",
       "      <td>Mon Jun 15, 1998 22:58 UTC</td>\n",
       "      <td>Tsyklon-3 | Cosmos 2352 to 2357</td>\n",
       "      <td>StatusRetired</td>\n",
       "      <td>NaN</td>\n",
       "      <td>0</td>\n",
       "    </tr>\n",
       "  </tbody>\n",
       "</table>\n",
       "</div>"
      ],
      "text/plain": [
       "   Serial Number  Unnamed: 0.1  Unnamed: 0 Company Name  \\\n",
       "0           3677          3676        3676    RVSN USSR   \n",
       "1             64            63          63         CASC   \n",
       "2           3930          3929        3929    RVSN USSR   \n",
       "3           2035          2034        2034    RVSN USSR   \n",
       "4           1310          1309        1309       VKS RF   \n",
       "\n",
       "                                          Location  \\\n",
       "0           Site 41/1, Plesetsk Cosmodrome, Russia   \n",
       "1  LC-101, Wenchang Satellite Launch Center, China   \n",
       "2                  Site 86/1, Kapustin Yar, Russia   \n",
       "3           Site 41/1, Plesetsk Cosmodrome, Russia   \n",
       "4           Site 32/1, Plesetsk Cosmodrome, Russia   \n",
       "\n",
       "                        Datum                                  Detail  \\\n",
       "0  Thu Apr 18, 1968 10:30 UTC                    Voskhod | Cosmos 214   \n",
       "1  Fri Dec 27, 2019 12:45 UTC               Long March 5 | Shijian-20   \n",
       "2  Thu Nov 04, 1965 05:31 UTC            Cosmos-2I (63SM) | Cosmos 95   \n",
       "3  Sat Nov 15, 1986 21:35 UTC  Molniya-M /Block ML | Molniya-1 n†­127   \n",
       "4  Mon Jun 15, 1998 22:58 UTC         Tsyklon-3 | Cosmos 2352 to 2357   \n",
       "\n",
       "   Status Rocket  Rocket  Status Mission  \n",
       "0  StatusRetired     NaN               1  \n",
       "1   StatusActive     NaN               1  \n",
       "2  StatusRetired     NaN               1  \n",
       "3  StatusRetired     NaN               1  \n",
       "4  StatusRetired     NaN               0  "
      ]
     },
     "execution_count": 4,
     "metadata": {},
     "output_type": "execute_result"
    }
   ],
   "source": [
    "data = pd.read_csv(\"/kaggle/input/sky-cast-margazhi-25/train.csv\")\n",
    "data.head(5)"
   ]
  },
  {
   "cell_type": "code",
   "execution_count": 5,
   "metadata": {
    "execution": {
     "iopub.execute_input": "2025-01-06T17:51:30.447893Z",
     "iopub.status.busy": "2025-01-06T17:51:30.447606Z",
     "iopub.status.idle": "2025-01-06T17:51:30.455070Z",
     "shell.execute_reply": "2025-01-06T17:51:30.453899Z",
     "shell.execute_reply.started": "2025-01-06T17:51:30.447867Z"
    },
    "trusted": true
   },
   "outputs": [
    {
     "data": {
      "text/plain": [
       "Index(['Serial Number', 'Unnamed: 0.1', 'Unnamed: 0', 'Company Name',\n",
       "       'Location', 'Datum', 'Detail', 'Status Rocket', ' Rocket',\n",
       "       'Status Mission'],\n",
       "      dtype='object')"
      ]
     },
     "execution_count": 5,
     "metadata": {},
     "output_type": "execute_result"
    }
   ],
   "source": [
    "data.columns"
   ]
  },
  {
   "cell_type": "code",
   "execution_count": 6,
   "metadata": {
    "execution": {
     "iopub.execute_input": "2025-01-06T17:51:30.456602Z",
     "iopub.status.busy": "2025-01-06T17:51:30.456242Z",
     "iopub.status.idle": "2025-01-06T17:51:30.479188Z",
     "shell.execute_reply": "2025-01-06T17:51:30.477899Z",
     "shell.execute_reply.started": "2025-01-06T17:51:30.456567Z"
    },
    "trusted": true
   },
   "outputs": [
    {
     "data": {
      "text/plain": [
       "<bound method DataFrame.info of       Serial Number  Unnamed: 0.1  Unnamed: 0      Company Name  \\\n",
       "0              3677          3676        3676         RVSN USSR   \n",
       "1                64            63          63              CASC   \n",
       "2              3930          3929        3929         RVSN USSR   \n",
       "3              2035          2034        2034         RVSN USSR   \n",
       "4              1310          1309        1309            VKS RF   \n",
       "...             ...           ...         ...               ...   \n",
       "3454           3445          3444        3444         RVSN USSR   \n",
       "3455            467           466         466       Arianespace   \n",
       "3456           3093          3092        3092  General Dynamics   \n",
       "3457           3773          3772        3772         RVSN USSR   \n",
       "3458            861           860         860              CASC   \n",
       "\n",
       "                                               Location  \\\n",
       "0                Site 41/1, Plesetsk Cosmodrome, Russia   \n",
       "1       LC-101, Wenchang Satellite Launch Center, China   \n",
       "2                       Site 86/1, Kapustin Yar, Russia   \n",
       "3                Site 41/1, Plesetsk Cosmodrome, Russia   \n",
       "4                Site 32/1, Plesetsk Cosmodrome, Russia   \n",
       "...                                                 ...   \n",
       "3454            Site 133/3, Plesetsk Cosmodrome, Russia   \n",
       "3455  ELA-3, Guiana Space Centre, French Guiana, France   \n",
       "3456          SLC-36B, Cape Canaveral AFS, Florida, USA   \n",
       "3457       Site 161/35, Baikonur Cosmodrome, Kazakhstan   \n",
       "3458       LC-2, Xichang Satellite Launch Center, China   \n",
       "\n",
       "                           Datum                                  Detail  \\\n",
       "0     Thu Apr 18, 1968 10:30 UTC                    Voskhod | Cosmos 214   \n",
       "1     Fri Dec 27, 2019 12:45 UTC               Long March 5 | Shijian-20   \n",
       "2     Thu Nov 04, 1965 05:31 UTC            Cosmos-2I (63SM) | Cosmos 95   \n",
       "3     Sat Nov 15, 1986 21:35 UTC  Molniya-M /Block ML | Molniya-1 n†­127   \n",
       "4     Mon Jun 15, 1998 22:58 UTC         Tsyklon-3 | Cosmos 2352 to 2357   \n",
       "...                          ...                                     ...   \n",
       "3454  Mon Aug 10, 1970 19:59 UTC           Cosmos-2I (63SM) | Cosmos 356   \n",
       "3455  Wed Jan 27, 2016 23:20 UTC             Ariane 5 ECA | Intelsat 29e   \n",
       "3456  Sat Nov 03, 1973 05:45 UTC    Atlas-SLV3D Centaur-D1A | Mariner 10   \n",
       "3457  Wed May 17, 1967 16:05 UTC                    Tsyklon | Cosmos 160   \n",
       "3458  Thu Jul 05, 2007 20:08 UTC             Long March 3B | Chinasat-6B   \n",
       "\n",
       "      Status Rocket  Rocket  Status Mission  \n",
       "0     StatusRetired     NaN               1  \n",
       "1      StatusActive     NaN               1  \n",
       "2     StatusRetired     NaN               1  \n",
       "3     StatusRetired     NaN               1  \n",
       "4     StatusRetired     NaN               0  \n",
       "...             ...     ...             ...  \n",
       "3454  StatusRetired     NaN               1  \n",
       "3455   StatusActive  200.0                1  \n",
       "3456  StatusRetired     NaN               1  \n",
       "3457  StatusRetired     NaN               1  \n",
       "3458   StatusActive     NaN               1  \n",
       "\n",
       "[3459 rows x 10 columns]>"
      ]
     },
     "execution_count": 6,
     "metadata": {},
     "output_type": "execute_result"
    }
   ],
   "source": [
    "data.info"
   ]
  },
  {
   "cell_type": "code",
   "execution_count": 7,
   "metadata": {
    "execution": {
     "iopub.execute_input": "2025-01-06T17:51:30.481078Z",
     "iopub.status.busy": "2025-01-06T17:51:30.480728Z",
     "iopub.status.idle": "2025-01-06T17:51:30.518949Z",
     "shell.execute_reply": "2025-01-06T17:51:30.517663Z",
     "shell.execute_reply.started": "2025-01-06T17:51:30.481044Z"
    },
    "trusted": true
   },
   "outputs": [
    {
     "data": {
      "text/html": [
       "<div>\n",
       "<style scoped>\n",
       "    .dataframe tbody tr th:only-of-type {\n",
       "        vertical-align: middle;\n",
       "    }\n",
       "\n",
       "    .dataframe tbody tr th {\n",
       "        vertical-align: top;\n",
       "    }\n",
       "\n",
       "    .dataframe thead th {\n",
       "        text-align: right;\n",
       "    }\n",
       "</style>\n",
       "<table border=\"1\" class=\"dataframe\">\n",
       "  <thead>\n",
       "    <tr style=\"text-align: right;\">\n",
       "      <th></th>\n",
       "      <th>Company Name</th>\n",
       "      <th>Location</th>\n",
       "      <th>Datum</th>\n",
       "      <th>Detail</th>\n",
       "      <th>Status Rocket</th>\n",
       "      <th>Rocket</th>\n",
       "      <th>Status Mission</th>\n",
       "    </tr>\n",
       "  </thead>\n",
       "  <tbody>\n",
       "    <tr>\n",
       "      <th>0</th>\n",
       "      <td>RVSN USSR</td>\n",
       "      <td>Site 41/1, Plesetsk Cosmodrome, Russia</td>\n",
       "      <td>Thu Apr 18, 1968 10:30 UTC</td>\n",
       "      <td>Voskhod | Cosmos 214</td>\n",
       "      <td>StatusRetired</td>\n",
       "      <td>NaN</td>\n",
       "      <td>1</td>\n",
       "    </tr>\n",
       "    <tr>\n",
       "      <th>1</th>\n",
       "      <td>CASC</td>\n",
       "      <td>LC-101, Wenchang Satellite Launch Center, China</td>\n",
       "      <td>Fri Dec 27, 2019 12:45 UTC</td>\n",
       "      <td>Long March 5 | Shijian-20</td>\n",
       "      <td>StatusActive</td>\n",
       "      <td>NaN</td>\n",
       "      <td>1</td>\n",
       "    </tr>\n",
       "    <tr>\n",
       "      <th>2</th>\n",
       "      <td>RVSN USSR</td>\n",
       "      <td>Site 86/1, Kapustin Yar, Russia</td>\n",
       "      <td>Thu Nov 04, 1965 05:31 UTC</td>\n",
       "      <td>Cosmos-2I (63SM) | Cosmos 95</td>\n",
       "      <td>StatusRetired</td>\n",
       "      <td>NaN</td>\n",
       "      <td>1</td>\n",
       "    </tr>\n",
       "    <tr>\n",
       "      <th>3</th>\n",
       "      <td>RVSN USSR</td>\n",
       "      <td>Site 41/1, Plesetsk Cosmodrome, Russia</td>\n",
       "      <td>Sat Nov 15, 1986 21:35 UTC</td>\n",
       "      <td>Molniya-M /Block ML | Molniya-1 n†­127</td>\n",
       "      <td>StatusRetired</td>\n",
       "      <td>NaN</td>\n",
       "      <td>1</td>\n",
       "    </tr>\n",
       "    <tr>\n",
       "      <th>4</th>\n",
       "      <td>VKS RF</td>\n",
       "      <td>Site 32/1, Plesetsk Cosmodrome, Russia</td>\n",
       "      <td>Mon Jun 15, 1998 22:58 UTC</td>\n",
       "      <td>Tsyklon-3 | Cosmos 2352 to 2357</td>\n",
       "      <td>StatusRetired</td>\n",
       "      <td>NaN</td>\n",
       "      <td>0</td>\n",
       "    </tr>\n",
       "  </tbody>\n",
       "</table>\n",
       "</div>"
      ],
      "text/plain": [
       "  Company Name                                         Location  \\\n",
       "0    RVSN USSR           Site 41/1, Plesetsk Cosmodrome, Russia   \n",
       "1         CASC  LC-101, Wenchang Satellite Launch Center, China   \n",
       "2    RVSN USSR                  Site 86/1, Kapustin Yar, Russia   \n",
       "3    RVSN USSR           Site 41/1, Plesetsk Cosmodrome, Russia   \n",
       "4       VKS RF           Site 32/1, Plesetsk Cosmodrome, Russia   \n",
       "\n",
       "                        Datum                                  Detail  \\\n",
       "0  Thu Apr 18, 1968 10:30 UTC                    Voskhod | Cosmos 214   \n",
       "1  Fri Dec 27, 2019 12:45 UTC               Long March 5 | Shijian-20   \n",
       "2  Thu Nov 04, 1965 05:31 UTC            Cosmos-2I (63SM) | Cosmos 95   \n",
       "3  Sat Nov 15, 1986 21:35 UTC  Molniya-M /Block ML | Molniya-1 n†­127   \n",
       "4  Mon Jun 15, 1998 22:58 UTC         Tsyklon-3 | Cosmos 2352 to 2357   \n",
       "\n",
       "   Status Rocket  Rocket  Status Mission  \n",
       "0  StatusRetired     NaN               1  \n",
       "1   StatusActive     NaN               1  \n",
       "2  StatusRetired     NaN               1  \n",
       "3  StatusRetired     NaN               1  \n",
       "4  StatusRetired     NaN               0  "
      ]
     },
     "execution_count": 7,
     "metadata": {},
     "output_type": "execute_result"
    }
   ],
   "source": [
    "data=data.drop(\"Unnamed: 0.1\",axis=1)\n",
    "data=data.drop(\"Serial Number\",axis=1)\n",
    "data=data.drop(\"Unnamed: 0\",axis=1)\n",
    "data.head(5)"
   ]
  },
  {
   "cell_type": "code",
   "execution_count": 8,
   "metadata": {
    "execution": {
     "iopub.execute_input": "2025-01-06T17:51:30.520879Z",
     "iopub.status.busy": "2025-01-06T17:51:30.520434Z",
     "iopub.status.idle": "2025-01-06T17:51:30.542690Z",
     "shell.execute_reply": "2025-01-06T17:51:30.541506Z",
     "shell.execute_reply.started": "2025-01-06T17:51:30.520783Z"
    },
    "trusted": true
   },
   "outputs": [
    {
     "data": {
      "text/plain": [
       "Company Name\n",
       "RVSN USSR           1433\n",
       "Arianespace          223\n",
       "General Dynamics     211\n",
       "CASC                 186\n",
       "NASA                 166\n",
       "VKS RF               152\n",
       "US Air Force         128\n",
       "ULA                  114\n",
       "Boeing               111\n",
       "Martin Marietta       91\n",
       "SpaceX                71\n",
       "MHI                   69\n",
       "Lockheed              66\n",
       "Northrop              63\n",
       "ISRO                  61\n",
       "Roscosmos             46\n",
       "ILS                   35\n",
       "Sea Launch            30\n",
       "ISAS                  24\n",
       "Kosmotras             15\n",
       "US Navy               14\n",
       "Eurockot              12\n",
       "ISA                   12\n",
       "ESA                   12\n",
       "Blue Origin           11\n",
       "Rocket Lab             9\n",
       "ExPace                 8\n",
       "CNES                   7\n",
       "IAI                    7\n",
       "Land Launch            7\n",
       "JAXA                   6\n",
       "ASI                    6\n",
       "AMBA                   6\n",
       "MITT                   6\n",
       "Arm??e de l'Air        4\n",
       "CASIC                  4\n",
       "UT                     4\n",
       "KCST                   4\n",
       "Exos                   3\n",
       "CECLES                 3\n",
       "SRC                    3\n",
       "RAE                    2\n",
       "Yuzhmash               2\n",
       "AEB                    2\n",
       "KARI                   2\n",
       "OKB-586                2\n",
       "Sandia                 1\n",
       "Starsem                1\n",
       "Virgin Orbit           1\n",
       "Khrunichev             1\n",
       "IRGC                   1\n",
       "Landspace              1\n",
       "Name: count, dtype: int64"
      ]
     },
     "execution_count": 8,
     "metadata": {},
     "output_type": "execute_result"
    }
   ],
   "source": [
    "data[\"Company Name\"].value_counts()"
   ]
  },
  {
   "cell_type": "code",
   "execution_count": 9,
   "metadata": {
    "execution": {
     "iopub.execute_input": "2025-01-06T17:51:30.546216Z",
     "iopub.status.busy": "2025-01-06T17:51:30.545858Z",
     "iopub.status.idle": "2025-01-06T17:51:30.572737Z",
     "shell.execute_reply": "2025-01-06T17:51:30.571560Z",
     "shell.execute_reply.started": "2025-01-06T17:51:30.546185Z"
    },
    "trusted": true
   },
   "outputs": [
    {
     "data": {
      "text/html": [
       "<div>\n",
       "<style scoped>\n",
       "    .dataframe tbody tr th:only-of-type {\n",
       "        vertical-align: middle;\n",
       "    }\n",
       "\n",
       "    .dataframe tbody tr th {\n",
       "        vertical-align: top;\n",
       "    }\n",
       "\n",
       "    .dataframe thead th {\n",
       "        text-align: right;\n",
       "    }\n",
       "</style>\n",
       "<table border=\"1\" class=\"dataframe\">\n",
       "  <thead>\n",
       "    <tr style=\"text-align: right;\">\n",
       "      <th></th>\n",
       "      <th>Company Name</th>\n",
       "      <th>Location</th>\n",
       "      <th>Datum</th>\n",
       "      <th>Detail</th>\n",
       "      <th>Status Rocket</th>\n",
       "      <th>Rocket</th>\n",
       "      <th>Status Mission</th>\n",
       "    </tr>\n",
       "  </thead>\n",
       "  <tbody>\n",
       "    <tr>\n",
       "      <th>0</th>\n",
       "      <td>37</td>\n",
       "      <td>Site 41/1, Plesetsk Cosmodrome, Russia</td>\n",
       "      <td>Thu Apr 18, 1968 10:30 UTC</td>\n",
       "      <td>Voskhod | Cosmos 214</td>\n",
       "      <td>1</td>\n",
       "      <td>NaN</td>\n",
       "      <td>1</td>\n",
       "    </tr>\n",
       "    <tr>\n",
       "      <th>1</th>\n",
       "      <td>7</td>\n",
       "      <td>LC-101, Wenchang Satellite Launch Center, China</td>\n",
       "      <td>Fri Dec 27, 2019 12:45 UTC</td>\n",
       "      <td>Long March 5 | Shijian-20</td>\n",
       "      <td>0</td>\n",
       "      <td>NaN</td>\n",
       "      <td>1</td>\n",
       "    </tr>\n",
       "    <tr>\n",
       "      <th>2</th>\n",
       "      <td>37</td>\n",
       "      <td>Site 86/1, Kapustin Yar, Russia</td>\n",
       "      <td>Thu Nov 04, 1965 05:31 UTC</td>\n",
       "      <td>Cosmos-2I (63SM) | Cosmos 95</td>\n",
       "      <td>1</td>\n",
       "      <td>NaN</td>\n",
       "      <td>1</td>\n",
       "    </tr>\n",
       "    <tr>\n",
       "      <th>3</th>\n",
       "      <td>37</td>\n",
       "      <td>Site 41/1, Plesetsk Cosmodrome, Russia</td>\n",
       "      <td>Sat Nov 15, 1986 21:35 UTC</td>\n",
       "      <td>Molniya-M /Block ML | Molniya-1 n†­127</td>\n",
       "      <td>1</td>\n",
       "      <td>NaN</td>\n",
       "      <td>1</td>\n",
       "    </tr>\n",
       "    <tr>\n",
       "      <th>4</th>\n",
       "      <td>49</td>\n",
       "      <td>Site 32/1, Plesetsk Cosmodrome, Russia</td>\n",
       "      <td>Mon Jun 15, 1998 22:58 UTC</td>\n",
       "      <td>Tsyklon-3 | Cosmos 2352 to 2357</td>\n",
       "      <td>1</td>\n",
       "      <td>NaN</td>\n",
       "      <td>0</td>\n",
       "    </tr>\n",
       "  </tbody>\n",
       "</table>\n",
       "</div>"
      ],
      "text/plain": [
       "   Company Name                                         Location  \\\n",
       "0            37           Site 41/1, Plesetsk Cosmodrome, Russia   \n",
       "1             7  LC-101, Wenchang Satellite Launch Center, China   \n",
       "2            37                  Site 86/1, Kapustin Yar, Russia   \n",
       "3            37           Site 41/1, Plesetsk Cosmodrome, Russia   \n",
       "4            49           Site 32/1, Plesetsk Cosmodrome, Russia   \n",
       "\n",
       "                        Datum                                  Detail  \\\n",
       "0  Thu Apr 18, 1968 10:30 UTC                    Voskhod | Cosmos 214   \n",
       "1  Fri Dec 27, 2019 12:45 UTC               Long March 5 | Shijian-20   \n",
       "2  Thu Nov 04, 1965 05:31 UTC            Cosmos-2I (63SM) | Cosmos 95   \n",
       "3  Sat Nov 15, 1986 21:35 UTC  Molniya-M /Block ML | Molniya-1 n†­127   \n",
       "4  Mon Jun 15, 1998 22:58 UTC         Tsyklon-3 | Cosmos 2352 to 2357   \n",
       "\n",
       "   Status Rocket  Rocket  Status Mission  \n",
       "0              1     NaN               1  \n",
       "1              0     NaN               1  \n",
       "2              1     NaN               1  \n",
       "3              1     NaN               1  \n",
       "4              1     NaN               0  "
      ]
     },
     "execution_count": 9,
     "metadata": {},
     "output_type": "execute_result"
    }
   ],
   "source": [
    "from sklearn.preprocessing import LabelEncoder\n",
    "\n",
    "encoder = LabelEncoder()\n",
    "\n",
    "data[\"Company Name\"]=encoder.fit_transform(data[\"Company Name\"])\n",
    "\n",
    "data[\"Status Rocket\"]=encoder.fit_transform(data[\"Status Rocket\"])\n",
    "\n",
    "data.head(5)"
   ]
  },
  {
   "cell_type": "code",
   "execution_count": 10,
   "metadata": {
    "execution": {
     "iopub.execute_input": "2025-01-06T17:51:30.575499Z",
     "iopub.status.busy": "2025-01-06T17:51:30.575182Z",
     "iopub.status.idle": "2025-01-06T17:51:30.598190Z",
     "shell.execute_reply": "2025-01-06T17:51:30.597123Z",
     "shell.execute_reply.started": "2025-01-06T17:51:30.575464Z"
    },
    "trusted": true
   },
   "outputs": [
    {
     "data": {
      "text/plain": [
       "<bound method Series.unique of Location\n",
       "Site 31/6, Baikonur Cosmodrome, Kazakhstan          192\n",
       "Site 132/1, Plesetsk Cosmodrome, Russia             173\n",
       "Site 43/4, Plesetsk Cosmodrome, Russia              173\n",
       "Site 41/1, Plesetsk Cosmodrome, Russia              163\n",
       "Site 1/5, Baikonur Cosmodrome, Kazakhstan           152\n",
       "                                                   ... \n",
       "Site 110/37, Baikonur Cosmodrome, Kazakhstan          1\n",
       "LC-576A1, Vandenberg AFB, California, USA             1\n",
       "Site 110/38, Baikonur Cosmodrome, Kazakhstan          1\n",
       "LC-11, Cape Canaveral AFS, Florida, USA               1\n",
       "NB-52B Carrier, Cape Canaveral AFS, Florida, USA      1\n",
       "Name: count, Length: 134, dtype: int64>"
      ]
     },
     "execution_count": 10,
     "metadata": {},
     "output_type": "execute_result"
    }
   ],
   "source": [
    "data[\"Location\"].value_counts().unique"
   ]
  },
  {
   "cell_type": "code",
   "execution_count": 11,
   "metadata": {
    "execution": {
     "iopub.execute_input": "2025-01-06T17:51:30.599449Z",
     "iopub.status.busy": "2025-01-06T17:51:30.599148Z",
     "iopub.status.idle": "2025-01-06T17:51:30.619167Z",
     "shell.execute_reply": "2025-01-06T17:51:30.618091Z",
     "shell.execute_reply.started": "2025-01-06T17:51:30.599411Z"
    },
    "trusted": true
   },
   "outputs": [
    {
     "data": {
      "text/plain": [
       "Status Rocket\n",
       "1    2844\n",
       "0     615\n",
       "Name: count, dtype: int64"
      ]
     },
     "execution_count": 11,
     "metadata": {},
     "output_type": "execute_result"
    }
   ],
   "source": [
    "data[\"Status Rocket\"].value_counts()"
   ]
  },
  {
   "cell_type": "code",
   "execution_count": 12,
   "metadata": {
    "execution": {
     "iopub.execute_input": "2025-01-06T17:51:30.620637Z",
     "iopub.status.busy": "2025-01-06T17:51:30.620282Z",
     "iopub.status.idle": "2025-01-06T17:51:30.638660Z",
     "shell.execute_reply": "2025-01-06T17:51:30.637625Z",
     "shell.execute_reply.started": "2025-01-06T17:51:30.620610Z"
    },
    "trusted": true
   },
   "outputs": [],
   "source": [
    "data[' Rocket'] = data[' Rocket'].str.replace(',', '').str.strip().astype(float)\n"
   ]
  },
  {
   "cell_type": "code",
   "execution_count": 13,
   "metadata": {
    "execution": {
     "iopub.execute_input": "2025-01-06T17:51:30.639867Z",
     "iopub.status.busy": "2025-01-06T17:51:30.639587Z",
     "iopub.status.idle": "2025-01-06T17:51:30.665864Z",
     "shell.execute_reply": "2025-01-06T17:51:30.664718Z",
     "shell.execute_reply.started": "2025-01-06T17:51:30.639841Z"
    },
    "trusted": true
   },
   "outputs": [
    {
     "data": {
      "text/plain": [
       "0        NaN\n",
       "1        NaN\n",
       "2        NaN\n",
       "3        NaN\n",
       "4        NaN\n",
       "5        NaN\n",
       "6        NaN\n",
       "7        NaN\n",
       "8     450.00\n",
       "9        NaN\n",
       "10       NaN\n",
       "11       NaN\n",
       "12       NaN\n",
       "13    450.00\n",
       "14       NaN\n",
       "15       NaN\n",
       "16     64.68\n",
       "17       NaN\n",
       "18       NaN\n",
       "19       NaN\n",
       "Name:  Rocket, dtype: float64"
      ]
     },
     "execution_count": 13,
     "metadata": {},
     "output_type": "execute_result"
    }
   ],
   "source": [
    "data[\" Rocket\"][0:20]"
   ]
  },
  {
   "cell_type": "code",
   "execution_count": 14,
   "metadata": {
    "execution": {
     "iopub.execute_input": "2025-01-06T17:51:30.667540Z",
     "iopub.status.busy": "2025-01-06T17:51:30.667231Z",
     "iopub.status.idle": "2025-01-06T17:51:30.759345Z",
     "shell.execute_reply": "2025-01-06T17:51:30.758217Z",
     "shell.execute_reply.started": "2025-01-06T17:51:30.667512Z"
    },
    "trusted": true
   },
   "outputs": [],
   "source": [
    "from sklearn.impute import SimpleImputer\n",
    "\n",
    "imputer = SimpleImputer(missing_values=np.nan, strategy='median')\n",
    "\n",
    "data[\" Rocket\"] = imputer.fit_transform(data[[\" Rocket\"]])"
   ]
  },
  {
   "cell_type": "code",
   "execution_count": 15,
   "metadata": {
    "execution": {
     "iopub.execute_input": "2025-01-06T17:51:30.761104Z",
     "iopub.status.busy": "2025-01-06T17:51:30.760673Z",
     "iopub.status.idle": "2025-01-06T17:51:31.298874Z",
     "shell.execute_reply": "2025-01-06T17:51:31.297790Z",
     "shell.execute_reply.started": "2025-01-06T17:51:30.761067Z"
    },
    "trusted": true
   },
   "outputs": [
    {
     "data": {
      "text/html": [
       "<div>\n",
       "<style scoped>\n",
       "    .dataframe tbody tr th:only-of-type {\n",
       "        vertical-align: middle;\n",
       "    }\n",
       "\n",
       "    .dataframe tbody tr th {\n",
       "        vertical-align: top;\n",
       "    }\n",
       "\n",
       "    .dataframe thead th {\n",
       "        text-align: right;\n",
       "    }\n",
       "</style>\n",
       "<table border=\"1\" class=\"dataframe\">\n",
       "  <thead>\n",
       "    <tr style=\"text-align: right;\">\n",
       "      <th></th>\n",
       "      <th>Company Name</th>\n",
       "      <th>Location</th>\n",
       "      <th>Datum</th>\n",
       "      <th>Status Rocket</th>\n",
       "      <th>Rocket</th>\n",
       "      <th>Status Mission</th>\n",
       "      <th>rocket_name</th>\n",
       "      <th>sat_name</th>\n",
       "    </tr>\n",
       "  </thead>\n",
       "  <tbody>\n",
       "    <tr>\n",
       "      <th>0</th>\n",
       "      <td>37</td>\n",
       "      <td>Site 41/1, Plesetsk Cosmodrome, Russia</td>\n",
       "      <td>Thu Apr 18, 1968 10:30 UTC</td>\n",
       "      <td>1</td>\n",
       "      <td>63.23</td>\n",
       "      <td>1</td>\n",
       "      <td>Voskhod</td>\n",
       "      <td>Cosmos 214</td>\n",
       "    </tr>\n",
       "    <tr>\n",
       "      <th>1</th>\n",
       "      <td>7</td>\n",
       "      <td>LC-101, Wenchang Satellite Launch Center, China</td>\n",
       "      <td>Fri Dec 27, 2019 12:45 UTC</td>\n",
       "      <td>0</td>\n",
       "      <td>63.23</td>\n",
       "      <td>1</td>\n",
       "      <td>Long March 5</td>\n",
       "      <td>Shijian-20</td>\n",
       "    </tr>\n",
       "    <tr>\n",
       "      <th>2</th>\n",
       "      <td>37</td>\n",
       "      <td>Site 86/1, Kapustin Yar, Russia</td>\n",
       "      <td>Thu Nov 04, 1965 05:31 UTC</td>\n",
       "      <td>1</td>\n",
       "      <td>63.23</td>\n",
       "      <td>1</td>\n",
       "      <td>Cosmos-2I (63SM)</td>\n",
       "      <td>Cosmos 95</td>\n",
       "    </tr>\n",
       "    <tr>\n",
       "      <th>3</th>\n",
       "      <td>37</td>\n",
       "      <td>Site 41/1, Plesetsk Cosmodrome, Russia</td>\n",
       "      <td>Sat Nov 15, 1986 21:35 UTC</td>\n",
       "      <td>1</td>\n",
       "      <td>63.23</td>\n",
       "      <td>1</td>\n",
       "      <td>Molniya-M /Block ML</td>\n",
       "      <td>Molniya-1 n†­127</td>\n",
       "    </tr>\n",
       "    <tr>\n",
       "      <th>4</th>\n",
       "      <td>49</td>\n",
       "      <td>Site 32/1, Plesetsk Cosmodrome, Russia</td>\n",
       "      <td>Mon Jun 15, 1998 22:58 UTC</td>\n",
       "      <td>1</td>\n",
       "      <td>63.23</td>\n",
       "      <td>0</td>\n",
       "      <td>Tsyklon-3</td>\n",
       "      <td>Cosmos 2352 to 2357</td>\n",
       "    </tr>\n",
       "  </tbody>\n",
       "</table>\n",
       "</div>"
      ],
      "text/plain": [
       "   Company Name                                         Location  \\\n",
       "0            37           Site 41/1, Plesetsk Cosmodrome, Russia   \n",
       "1             7  LC-101, Wenchang Satellite Launch Center, China   \n",
       "2            37                  Site 86/1, Kapustin Yar, Russia   \n",
       "3            37           Site 41/1, Plesetsk Cosmodrome, Russia   \n",
       "4            49           Site 32/1, Plesetsk Cosmodrome, Russia   \n",
       "\n",
       "                        Datum  Status Rocket   Rocket  Status Mission  \\\n",
       "0  Thu Apr 18, 1968 10:30 UTC              1    63.23               1   \n",
       "1  Fri Dec 27, 2019 12:45 UTC              0    63.23               1   \n",
       "2  Thu Nov 04, 1965 05:31 UTC              1    63.23               1   \n",
       "3  Sat Nov 15, 1986 21:35 UTC              1    63.23               1   \n",
       "4  Mon Jun 15, 1998 22:58 UTC              1    63.23               0   \n",
       "\n",
       "            rocket_name              sat_name  \n",
       "0              Voskhod             Cosmos 214  \n",
       "1         Long March 5             Shijian-20  \n",
       "2     Cosmos-2I (63SM)              Cosmos 95  \n",
       "3  Molniya-M /Block ML       Molniya-1 n†­127  \n",
       "4            Tsyklon-3    Cosmos 2352 to 2357  "
      ]
     },
     "execution_count": 15,
     "metadata": {},
     "output_type": "execute_result"
    }
   ],
   "source": [
    "pd.options.mode.copy_on_write = True\n",
    "k = 0\n",
    "for i in data[\"Detail\"]:\n",
    "    j = i.split(\"|\")\n",
    "    data.loc[k, \"rocket_name\"] = j[0]\n",
    "    data.loc[k, \"sat_name\"] = j[1]\n",
    "    k += 1\n",
    "\n",
    "data=data.drop(\"Detail\",axis=1)\n",
    "data.head(5)"
   ]
  },
  {
   "cell_type": "code",
   "execution_count": 16,
   "metadata": {
    "execution": {
     "iopub.execute_input": "2025-01-06T17:51:31.300447Z",
     "iopub.status.busy": "2025-01-06T17:51:31.300124Z",
     "iopub.status.idle": "2025-01-06T17:51:31.432269Z",
     "shell.execute_reply": "2025-01-06T17:51:31.431049Z",
     "shell.execute_reply.started": "2025-01-06T17:51:31.300420Z"
    },
    "trusted": true
   },
   "outputs": [
    {
     "data": {
      "text/plain": [
       "'Conversion successful.'"
      ]
     },
     "execution_count": 16,
     "metadata": {},
     "output_type": "execute_result"
    }
   ],
   "source": [
    "\n",
    "def standardize_datum(value):\n",
    "    if len(value.split()) == 4:  \n",
    "        return f\"{value} 00:00 UTC\"\n",
    "    return value\n",
    "\n",
    "# Standardize the 'Datum' āā\n",
    "data['Datum'] = data['Datum'].apply(standardize_datum)\n",
    "\n",
    "\n",
    "try:\n",
    "    data['Datum'] = pd.to_datetime(data['Datum'], format=\"%a %b %d, %Y %H:%M %Z\")\n",
    "    conversion_status = \"Conversion successful.\"\n",
    "except Exception as e:\n",
    "    conversion_status = f\"Conversion failed: {e}\"\n",
    "\n",
    "conversion_status\n"
   ]
  },
  {
   "cell_type": "code",
   "execution_count": 17,
   "metadata": {
    "execution": {
     "iopub.execute_input": "2025-01-06T17:51:31.433670Z",
     "iopub.status.busy": "2025-01-06T17:51:31.433318Z",
     "iopub.status.idle": "2025-01-06T17:51:31.443315Z",
     "shell.execute_reply": "2025-01-06T17:51:31.442118Z",
     "shell.execute_reply.started": "2025-01-06T17:51:31.433631Z"
    },
    "trusted": true
   },
   "outputs": [],
   "source": [
    "data[\"year\"]=data[\"Datum\"].dt.year\n",
    "data[\"month\"]=data[\"Datum\"].dt.month\n",
    "data[\"day\"]=data[\"Datum\"].dt.day\n",
    "data[\"hour\"]=data[\"Datum\"].dt.hour"
   ]
  },
  {
   "cell_type": "code",
   "execution_count": 18,
   "metadata": {
    "execution": {
     "iopub.execute_input": "2025-01-06T17:51:31.444875Z",
     "iopub.status.busy": "2025-01-06T17:51:31.444489Z",
     "iopub.status.idle": "2025-01-06T17:51:31.469746Z",
     "shell.execute_reply": "2025-01-06T17:51:31.468511Z",
     "shell.execute_reply.started": "2025-01-06T17:51:31.444833Z"
    },
    "trusted": true
   },
   "outputs": [
    {
     "data": {
      "text/html": [
       "<div>\n",
       "<style scoped>\n",
       "    .dataframe tbody tr th:only-of-type {\n",
       "        vertical-align: middle;\n",
       "    }\n",
       "\n",
       "    .dataframe tbody tr th {\n",
       "        vertical-align: top;\n",
       "    }\n",
       "\n",
       "    .dataframe thead th {\n",
       "        text-align: right;\n",
       "    }\n",
       "</style>\n",
       "<table border=\"1\" class=\"dataframe\">\n",
       "  <thead>\n",
       "    <tr style=\"text-align: right;\">\n",
       "      <th></th>\n",
       "      <th>Company Name</th>\n",
       "      <th>Location</th>\n",
       "      <th>Status Rocket</th>\n",
       "      <th>Rocket</th>\n",
       "      <th>Status Mission</th>\n",
       "      <th>rocket_name</th>\n",
       "      <th>sat_name</th>\n",
       "      <th>year</th>\n",
       "      <th>month</th>\n",
       "      <th>day</th>\n",
       "      <th>hour</th>\n",
       "    </tr>\n",
       "  </thead>\n",
       "  <tbody>\n",
       "    <tr>\n",
       "      <th>0</th>\n",
       "      <td>37</td>\n",
       "      <td>Site 41/1, Plesetsk Cosmodrome, Russia</td>\n",
       "      <td>1</td>\n",
       "      <td>63.23</td>\n",
       "      <td>1</td>\n",
       "      <td>Voskhod</td>\n",
       "      <td>Cosmos 214</td>\n",
       "      <td>1968</td>\n",
       "      <td>4</td>\n",
       "      <td>18</td>\n",
       "      <td>10</td>\n",
       "    </tr>\n",
       "    <tr>\n",
       "      <th>1</th>\n",
       "      <td>7</td>\n",
       "      <td>LC-101, Wenchang Satellite Launch Center, China</td>\n",
       "      <td>0</td>\n",
       "      <td>63.23</td>\n",
       "      <td>1</td>\n",
       "      <td>Long March 5</td>\n",
       "      <td>Shijian-20</td>\n",
       "      <td>2019</td>\n",
       "      <td>12</td>\n",
       "      <td>27</td>\n",
       "      <td>12</td>\n",
       "    </tr>\n",
       "    <tr>\n",
       "      <th>2</th>\n",
       "      <td>37</td>\n",
       "      <td>Site 86/1, Kapustin Yar, Russia</td>\n",
       "      <td>1</td>\n",
       "      <td>63.23</td>\n",
       "      <td>1</td>\n",
       "      <td>Cosmos-2I (63SM)</td>\n",
       "      <td>Cosmos 95</td>\n",
       "      <td>1965</td>\n",
       "      <td>11</td>\n",
       "      <td>4</td>\n",
       "      <td>5</td>\n",
       "    </tr>\n",
       "    <tr>\n",
       "      <th>3</th>\n",
       "      <td>37</td>\n",
       "      <td>Site 41/1, Plesetsk Cosmodrome, Russia</td>\n",
       "      <td>1</td>\n",
       "      <td>63.23</td>\n",
       "      <td>1</td>\n",
       "      <td>Molniya-M /Block ML</td>\n",
       "      <td>Molniya-1 n†­127</td>\n",
       "      <td>1986</td>\n",
       "      <td>11</td>\n",
       "      <td>15</td>\n",
       "      <td>21</td>\n",
       "    </tr>\n",
       "    <tr>\n",
       "      <th>4</th>\n",
       "      <td>49</td>\n",
       "      <td>Site 32/1, Plesetsk Cosmodrome, Russia</td>\n",
       "      <td>1</td>\n",
       "      <td>63.23</td>\n",
       "      <td>0</td>\n",
       "      <td>Tsyklon-3</td>\n",
       "      <td>Cosmos 2352 to 2357</td>\n",
       "      <td>1998</td>\n",
       "      <td>6</td>\n",
       "      <td>15</td>\n",
       "      <td>22</td>\n",
       "    </tr>\n",
       "  </tbody>\n",
       "</table>\n",
       "</div>"
      ],
      "text/plain": [
       "   Company Name                                         Location  \\\n",
       "0            37           Site 41/1, Plesetsk Cosmodrome, Russia   \n",
       "1             7  LC-101, Wenchang Satellite Launch Center, China   \n",
       "2            37                  Site 86/1, Kapustin Yar, Russia   \n",
       "3            37           Site 41/1, Plesetsk Cosmodrome, Russia   \n",
       "4            49           Site 32/1, Plesetsk Cosmodrome, Russia   \n",
       "\n",
       "   Status Rocket   Rocket  Status Mission           rocket_name  \\\n",
       "0              1    63.23               1              Voskhod    \n",
       "1              0    63.23               1         Long March 5    \n",
       "2              1    63.23               1     Cosmos-2I (63SM)    \n",
       "3              1    63.23               1  Molniya-M /Block ML    \n",
       "4              1    63.23               0            Tsyklon-3    \n",
       "\n",
       "               sat_name  year  month  day  hour  \n",
       "0            Cosmos 214  1968      4   18    10  \n",
       "1            Shijian-20  2019     12   27    12  \n",
       "2             Cosmos 95  1965     11    4     5  \n",
       "3      Molniya-1 n†­127  1986     11   15    21  \n",
       "4   Cosmos 2352 to 2357  1998      6   15    22  "
      ]
     },
     "execution_count": 18,
     "metadata": {},
     "output_type": "execute_result"
    }
   ],
   "source": [
    "data=data.drop(\"Datum\",axis=1)\n",
    "data.head(5)"
   ]
  },
  {
   "cell_type": "code",
   "execution_count": 19,
   "metadata": {
    "execution": {
     "iopub.execute_input": "2025-01-06T17:51:31.471080Z",
     "iopub.status.busy": "2025-01-06T17:51:31.470768Z",
     "iopub.status.idle": "2025-01-06T17:51:31.504792Z",
     "shell.execute_reply": "2025-01-06T17:51:31.503396Z",
     "shell.execute_reply.started": "2025-01-06T17:51:31.471050Z"
    },
    "trusted": true
   },
   "outputs": [
    {
     "data": {
      "text/plain": [
       "center\n",
       "Plesetsk Cosmodrome                                  1027\n",
       "Baikonur Cosmodrome                                   550\n",
       "Cape Canaveral AFS                                    528\n",
       "Vandenberg AFB                                        356\n",
       "Guiana Space Centre                                   241\n",
       "Kennedy Space Center                                  150\n",
       "Kapustin Yar                                           91\n",
       "Jiuquan Satellite Launch Center                        84\n",
       "Tanegashima Space Center                               70\n",
       "Xichang Satellite Launch Center                        67\n",
       "Satish Dhawan Space Centre                             61\n",
       "Taiyuan Satellite Launch Center                        35\n",
       "Kiritimati Launch Area                                 30\n",
       "Uchinoura Space Center                                 27\n",
       "Wallops Flight Facility                                26\n",
       "Semnan Space Center                                    12\n",
       "West Texas                                             11\n",
       "M?hia Peninsula                                        9\n",
       "Palmachim Airbase                                       7\n",
       "China                                                   6\n",
       "San Marco Launch Platform                               6\n",
       "Japan                                                   6\n",
       "Wenchang Satellite Launch Center                        6\n",
       "Ronald Reagan Ballistic Missile Defense Test Site       5\n",
       "Yasny Cosmodrome                                        5\n",
       "Vostochny Cosmodrome                                    5\n",
       "Hammaguir                                               4\n",
       "Russia                                                  4\n",
       "RAAF Woomera Range Complex                              4\n",
       "Barents Sea Launch Area                                 3\n",
       "Naval Air Station Point Mugu                            3\n",
       "Spaceport America                                       3\n",
       "Edwards AFB                                             2\n",
       "Pacific Spaceport Complex                               2\n",
       "Naro Space Center                                       2\n",
       "Tonghae Satellite Launching Ground                      2\n",
       "Alc?›ntara Launch Center                                2\n",
       "Sohae Satellite Launching Station                       2\n",
       "Boca Chica                                              1\n",
       "Kauai                                                   1\n",
       "Mojave Air and Space Port                               1\n",
       "Yellow Sea                                              1\n",
       "Shahrud Missile Test Site                               1\n",
       "Name: count, dtype: int64"
      ]
     },
     "execution_count": 19,
     "metadata": {},
     "output_type": "execute_result"
    }
   ],
   "source": [
    "location_split = data['Location'].str.split(',', expand=True)\n",
    "data['center'] = location_split.iloc[:, 1].str.strip()\n",
    "data['country'] = location_split.iloc[:, -1].str.strip()\n",
    "data['site'] = location_split.iloc[:, 0].str.strip()\n",
    "data['center'].value_counts()"
   ]
  },
  {
   "cell_type": "code",
   "execution_count": 20,
   "metadata": {
    "execution": {
     "iopub.execute_input": "2025-01-06T17:51:31.506245Z",
     "iopub.status.busy": "2025-01-06T17:51:31.505849Z",
     "iopub.status.idle": "2025-01-06T17:51:31.518461Z",
     "shell.execute_reply": "2025-01-06T17:51:31.517357Z",
     "shell.execute_reply.started": "2025-01-06T17:51:31.506212Z"
    },
    "trusted": true
   },
   "outputs": [],
   "source": [
    "data=data.drop(\"Location\",axis=1)"
   ]
  },
  {
   "cell_type": "code",
   "execution_count": 21,
   "metadata": {
    "execution": {
     "iopub.execute_input": "2025-01-06T17:51:31.520192Z",
     "iopub.status.busy": "2025-01-06T17:51:31.519844Z",
     "iopub.status.idle": "2025-01-06T17:51:31.542084Z",
     "shell.execute_reply": "2025-01-06T17:51:31.540936Z",
     "shell.execute_reply.started": "2025-01-06T17:51:31.520157Z"
    },
    "trusted": true
   },
   "outputs": [
    {
     "data": {
      "text/html": [
       "<div>\n",
       "<style scoped>\n",
       "    .dataframe tbody tr th:only-of-type {\n",
       "        vertical-align: middle;\n",
       "    }\n",
       "\n",
       "    .dataframe tbody tr th {\n",
       "        vertical-align: top;\n",
       "    }\n",
       "\n",
       "    .dataframe thead th {\n",
       "        text-align: right;\n",
       "    }\n",
       "</style>\n",
       "<table border=\"1\" class=\"dataframe\">\n",
       "  <thead>\n",
       "    <tr style=\"text-align: right;\">\n",
       "      <th></th>\n",
       "      <th>Company Name</th>\n",
       "      <th>Status Rocket</th>\n",
       "      <th>Rocket</th>\n",
       "      <th>Status Mission</th>\n",
       "      <th>rocket_name</th>\n",
       "      <th>sat_name</th>\n",
       "      <th>year</th>\n",
       "      <th>month</th>\n",
       "      <th>day</th>\n",
       "      <th>hour</th>\n",
       "      <th>center</th>\n",
       "      <th>country</th>\n",
       "      <th>site</th>\n",
       "    </tr>\n",
       "  </thead>\n",
       "  <tbody>\n",
       "    <tr>\n",
       "      <th>0</th>\n",
       "      <td>37</td>\n",
       "      <td>1</td>\n",
       "      <td>63.23</td>\n",
       "      <td>1</td>\n",
       "      <td>Voskhod</td>\n",
       "      <td>Cosmos 214</td>\n",
       "      <td>1968</td>\n",
       "      <td>4</td>\n",
       "      <td>18</td>\n",
       "      <td>10</td>\n",
       "      <td>Plesetsk Cosmodrome</td>\n",
       "      <td>None</td>\n",
       "      <td>Site 41/1</td>\n",
       "    </tr>\n",
       "    <tr>\n",
       "      <th>1</th>\n",
       "      <td>7</td>\n",
       "      <td>0</td>\n",
       "      <td>63.23</td>\n",
       "      <td>1</td>\n",
       "      <td>Long March 5</td>\n",
       "      <td>Shijian-20</td>\n",
       "      <td>2019</td>\n",
       "      <td>12</td>\n",
       "      <td>27</td>\n",
       "      <td>12</td>\n",
       "      <td>Wenchang Satellite Launch Center</td>\n",
       "      <td>None</td>\n",
       "      <td>LC-101</td>\n",
       "    </tr>\n",
       "    <tr>\n",
       "      <th>2</th>\n",
       "      <td>37</td>\n",
       "      <td>1</td>\n",
       "      <td>63.23</td>\n",
       "      <td>1</td>\n",
       "      <td>Cosmos-2I (63SM)</td>\n",
       "      <td>Cosmos 95</td>\n",
       "      <td>1965</td>\n",
       "      <td>11</td>\n",
       "      <td>4</td>\n",
       "      <td>5</td>\n",
       "      <td>Kapustin Yar</td>\n",
       "      <td>None</td>\n",
       "      <td>Site 86/1</td>\n",
       "    </tr>\n",
       "    <tr>\n",
       "      <th>3</th>\n",
       "      <td>37</td>\n",
       "      <td>1</td>\n",
       "      <td>63.23</td>\n",
       "      <td>1</td>\n",
       "      <td>Molniya-M /Block ML</td>\n",
       "      <td>Molniya-1 n†­127</td>\n",
       "      <td>1986</td>\n",
       "      <td>11</td>\n",
       "      <td>15</td>\n",
       "      <td>21</td>\n",
       "      <td>Plesetsk Cosmodrome</td>\n",
       "      <td>None</td>\n",
       "      <td>Site 41/1</td>\n",
       "    </tr>\n",
       "    <tr>\n",
       "      <th>4</th>\n",
       "      <td>49</td>\n",
       "      <td>1</td>\n",
       "      <td>63.23</td>\n",
       "      <td>0</td>\n",
       "      <td>Tsyklon-3</td>\n",
       "      <td>Cosmos 2352 to 2357</td>\n",
       "      <td>1998</td>\n",
       "      <td>6</td>\n",
       "      <td>15</td>\n",
       "      <td>22</td>\n",
       "      <td>Plesetsk Cosmodrome</td>\n",
       "      <td>None</td>\n",
       "      <td>Site 32/1</td>\n",
       "    </tr>\n",
       "  </tbody>\n",
       "</table>\n",
       "</div>"
      ],
      "text/plain": [
       "   Company Name  Status Rocket   Rocket  Status Mission           rocket_name  \\\n",
       "0            37              1    63.23               1              Voskhod    \n",
       "1             7              0    63.23               1         Long March 5    \n",
       "2            37              1    63.23               1     Cosmos-2I (63SM)    \n",
       "3            37              1    63.23               1  Molniya-M /Block ML    \n",
       "4            49              1    63.23               0            Tsyklon-3    \n",
       "\n",
       "               sat_name  year  month  day  hour  \\\n",
       "0            Cosmos 214  1968      4   18    10   \n",
       "1            Shijian-20  2019     12   27    12   \n",
       "2             Cosmos 95  1965     11    4     5   \n",
       "3      Molniya-1 n†­127  1986     11   15    21   \n",
       "4   Cosmos 2352 to 2357  1998      6   15    22   \n",
       "\n",
       "                             center country       site  \n",
       "0               Plesetsk Cosmodrome    None  Site 41/1  \n",
       "1  Wenchang Satellite Launch Center    None     LC-101  \n",
       "2                      Kapustin Yar    None  Site 86/1  \n",
       "3               Plesetsk Cosmodrome    None  Site 41/1  \n",
       "4               Plesetsk Cosmodrome    None  Site 32/1  "
      ]
     },
     "execution_count": 21,
     "metadata": {},
     "output_type": "execute_result"
    }
   ],
   "source": [
    "data.head(5)"
   ]
  },
  {
   "cell_type": "code",
   "execution_count": 22,
   "metadata": {
    "execution": {
     "iopub.execute_input": "2025-01-06T17:51:31.543601Z",
     "iopub.status.busy": "2025-01-06T17:51:31.543201Z",
     "iopub.status.idle": "2025-01-06T17:51:31.568860Z",
     "shell.execute_reply": "2025-01-06T17:51:31.567767Z",
     "shell.execute_reply.started": "2025-01-06T17:51:31.543535Z"
    },
    "trusted": true
   },
   "outputs": [],
   "source": [
    "data[\"center\"]=encoder.fit_transform(data[\"center\"])\n",
    "\n",
    "data[\"rocket_name\"]=encoder.fit_transform(data[\"rocket_name\"])\n",
    "\n",
    "data[\"sat_name\"]=encoder.fit_transform(data[\"sat_name\"])\n",
    "\n",
    "data[\"country\"]=encoder.fit_transform(data[\"country\"])\n",
    "\n",
    "data[\"site\"]=encoder.fit_transform(data[\"site\"])"
   ]
  },
  {
   "cell_type": "code",
   "execution_count": 23,
   "metadata": {
    "execution": {
     "iopub.execute_input": "2025-01-06T17:51:31.570360Z",
     "iopub.status.busy": "2025-01-06T17:51:31.570020Z",
     "iopub.status.idle": "2025-01-06T17:51:31.590227Z",
     "shell.execute_reply": "2025-01-06T17:51:31.589116Z",
     "shell.execute_reply.started": "2025-01-06T17:51:31.570329Z"
    },
    "trusted": true
   },
   "outputs": [],
   "source": [
    "y_data=data[\"Status Mission\"]\n",
    "x_data=data.drop(\"Status Mission\",axis=1)"
   ]
  },
  {
   "cell_type": "code",
   "execution_count": 24,
   "metadata": {
    "execution": {
     "iopub.execute_input": "2025-01-06T17:51:31.591844Z",
     "iopub.status.busy": "2025-01-06T17:51:31.591451Z",
     "iopub.status.idle": "2025-01-06T17:51:31.618686Z",
     "shell.execute_reply": "2025-01-06T17:51:31.617470Z",
     "shell.execute_reply.started": "2025-01-06T17:51:31.591801Z"
    },
    "trusted": true
   },
   "outputs": [
    {
     "data": {
      "text/html": [
       "<div>\n",
       "<style scoped>\n",
       "    .dataframe tbody tr th:only-of-type {\n",
       "        vertical-align: middle;\n",
       "    }\n",
       "\n",
       "    .dataframe tbody tr th {\n",
       "        vertical-align: top;\n",
       "    }\n",
       "\n",
       "    .dataframe thead th {\n",
       "        text-align: right;\n",
       "    }\n",
       "</style>\n",
       "<table border=\"1\" class=\"dataframe\">\n",
       "  <thead>\n",
       "    <tr style=\"text-align: right;\">\n",
       "      <th></th>\n",
       "      <th>Company Name</th>\n",
       "      <th>Status Rocket</th>\n",
       "      <th>Rocket</th>\n",
       "      <th>rocket_name</th>\n",
       "      <th>sat_name</th>\n",
       "      <th>year</th>\n",
       "      <th>month</th>\n",
       "      <th>day</th>\n",
       "      <th>hour</th>\n",
       "      <th>center</th>\n",
       "      <th>country</th>\n",
       "      <th>site</th>\n",
       "    </tr>\n",
       "  </thead>\n",
       "  <tbody>\n",
       "    <tr>\n",
       "      <th>0</th>\n",
       "      <td>37</td>\n",
       "      <td>1</td>\n",
       "      <td>63.23</td>\n",
       "      <td>322</td>\n",
       "      <td>702</td>\n",
       "      <td>1968</td>\n",
       "      <td>4</td>\n",
       "      <td>18</td>\n",
       "      <td>10</td>\n",
       "      <td>21</td>\n",
       "      <td>3</td>\n",
       "      <td>106</td>\n",
       "    </tr>\n",
       "    <tr>\n",
       "      <th>1</th>\n",
       "      <td>7</td>\n",
       "      <td>0</td>\n",
       "      <td>63.23</td>\n",
       "      <td>171</td>\n",
       "      <td>3011</td>\n",
       "      <td>2019</td>\n",
       "      <td>12</td>\n",
       "      <td>27</td>\n",
       "      <td>12</td>\n",
       "      <td>38</td>\n",
       "      <td>3</td>\n",
       "      <td>21</td>\n",
       "    </tr>\n",
       "    <tr>\n",
       "      <th>2</th>\n",
       "      <td>37</td>\n",
       "      <td>1</td>\n",
       "      <td>63.23</td>\n",
       "      <td>74</td>\n",
       "      <td>1345</td>\n",
       "      <td>1965</td>\n",
       "      <td>11</td>\n",
       "      <td>4</td>\n",
       "      <td>5</td>\n",
       "      <td>11</td>\n",
       "      <td>3</td>\n",
       "      <td>115</td>\n",
       "    </tr>\n",
       "    <tr>\n",
       "      <th>3</th>\n",
       "      <td>37</td>\n",
       "      <td>1</td>\n",
       "      <td>63.23</td>\n",
       "      <td>183</td>\n",
       "      <td>2297</td>\n",
       "      <td>1986</td>\n",
       "      <td>11</td>\n",
       "      <td>15</td>\n",
       "      <td>21</td>\n",
       "      <td>21</td>\n",
       "      <td>3</td>\n",
       "      <td>106</td>\n",
       "    </tr>\n",
       "    <tr>\n",
       "      <th>4</th>\n",
       "      <td>49</td>\n",
       "      <td>1</td>\n",
       "      <td>63.23</td>\n",
       "      <td>315</td>\n",
       "      <td>776</td>\n",
       "      <td>1998</td>\n",
       "      <td>6</td>\n",
       "      <td>15</td>\n",
       "      <td>22</td>\n",
       "      <td>21</td>\n",
       "      <td>3</td>\n",
       "      <td>102</td>\n",
       "    </tr>\n",
       "    <tr>\n",
       "      <th>5</th>\n",
       "      <td>37</td>\n",
       "      <td>1</td>\n",
       "      <td>63.23</td>\n",
       "      <td>267</td>\n",
       "      <td>1217</td>\n",
       "      <td>1975</td>\n",
       "      <td>9</td>\n",
       "      <td>29</td>\n",
       "      <td>4</td>\n",
       "      <td>1</td>\n",
       "      <td>3</td>\n",
       "      <td>82</td>\n",
       "    </tr>\n",
       "    <tr>\n",
       "      <th>6</th>\n",
       "      <td>37</td>\n",
       "      <td>1</td>\n",
       "      <td>63.23</td>\n",
       "      <td>322</td>\n",
       "      <td>851</td>\n",
       "      <td>1969</td>\n",
       "      <td>3</td>\n",
       "      <td>6</td>\n",
       "      <td>12</td>\n",
       "      <td>21</td>\n",
       "      <td>3</td>\n",
       "      <td>106</td>\n",
       "    </tr>\n",
       "    <tr>\n",
       "      <th>7</th>\n",
       "      <td>37</td>\n",
       "      <td>1</td>\n",
       "      <td>63.23</td>\n",
       "      <td>324</td>\n",
       "      <td>915</td>\n",
       "      <td>1964</td>\n",
       "      <td>7</td>\n",
       "      <td>15</td>\n",
       "      <td>11</td>\n",
       "      <td>1</td>\n",
       "      <td>3</td>\n",
       "      <td>101</td>\n",
       "    </tr>\n",
       "    <tr>\n",
       "      <th>8</th>\n",
       "      <td>33</td>\n",
       "      <td>1</td>\n",
       "      <td>450.00</td>\n",
       "      <td>272</td>\n",
       "      <td>2845</td>\n",
       "      <td>2002</td>\n",
       "      <td>11</td>\n",
       "      <td>24</td>\n",
       "      <td>0</td>\n",
       "      <td>13</td>\n",
       "      <td>2</td>\n",
       "      <td>35</td>\n",
       "    </tr>\n",
       "    <tr>\n",
       "      <th>9</th>\n",
       "      <td>3</td>\n",
       "      <td>1</td>\n",
       "      <td>63.23</td>\n",
       "      <td>14</td>\n",
       "      <td>3043</td>\n",
       "      <td>1993</td>\n",
       "      <td>11</td>\n",
       "      <td>20</td>\n",
       "      <td>1</td>\n",
       "      <td>7</td>\n",
       "      <td>1</td>\n",
       "      <td>5</td>\n",
       "    </tr>\n",
       "  </tbody>\n",
       "</table>\n",
       "</div>"
      ],
      "text/plain": [
       "   Company Name  Status Rocket   Rocket  rocket_name  sat_name  year  month  \\\n",
       "0            37              1    63.23          322       702  1968      4   \n",
       "1             7              0    63.23          171      3011  2019     12   \n",
       "2            37              1    63.23           74      1345  1965     11   \n",
       "3            37              1    63.23          183      2297  1986     11   \n",
       "4            49              1    63.23          315       776  1998      6   \n",
       "5            37              1    63.23          267      1217  1975      9   \n",
       "6            37              1    63.23          322       851  1969      3   \n",
       "7            37              1    63.23          324       915  1964      7   \n",
       "8            33              1   450.00          272      2845  2002     11   \n",
       "9             3              1    63.23           14      3043  1993     11   \n",
       "\n",
       "   day  hour  center  country  site  \n",
       "0   18    10      21        3   106  \n",
       "1   27    12      38        3    21  \n",
       "2    4     5      11        3   115  \n",
       "3   15    21      21        3   106  \n",
       "4   15    22      21        3   102  \n",
       "5   29     4       1        3    82  \n",
       "6    6    12      21        3   106  \n",
       "7   15    11       1        3   101  \n",
       "8   24     0      13        2    35  \n",
       "9   20     1       7        1     5  "
      ]
     },
     "execution_count": 24,
     "metadata": {},
     "output_type": "execute_result"
    }
   ],
   "source": [
    "x_data.head(10)"
   ]
  },
  {
   "cell_type": "code",
   "execution_count": 25,
   "metadata": {
    "execution": {
     "iopub.execute_input": "2025-01-06T17:51:31.620124Z",
     "iopub.status.busy": "2025-01-06T17:51:31.619757Z",
     "iopub.status.idle": "2025-01-06T17:51:31.640487Z",
     "shell.execute_reply": "2025-01-06T17:51:31.639329Z",
     "shell.execute_reply.started": "2025-01-06T17:51:31.620086Z"
    },
    "trusted": true
   },
   "outputs": [
    {
     "name": "stdout",
     "output_type": "stream",
     "text": [
      "(2767, 12)\n",
      "(2767,)\n",
      "(692, 12)\n",
      "(692,)\n"
     ]
    }
   ],
   "source": [
    "from sklearn.model_selection import train_test_split\n",
    "\n",
    "x_train,x_test,y_train,y_test=train_test_split(x_data,y_data,test_size=0.2,random_state=42)\n",
    "\n",
    "print(x_train.shape)\n",
    "print(y_train.shape)\n",
    "print(x_test.shape)\n",
    "print(y_test.shape)"
   ]
  },
  {
   "cell_type": "code",
   "execution_count": 26,
   "metadata": {
    "execution": {
     "iopub.execute_input": "2025-01-06T17:51:31.641778Z",
     "iopub.status.busy": "2025-01-06T17:51:31.641488Z",
     "iopub.status.idle": "2025-01-06T17:51:31.649957Z",
     "shell.execute_reply": "2025-01-06T17:51:31.648959Z",
     "shell.execute_reply.started": "2025-01-06T17:51:31.641749Z"
    },
    "trusted": true
   },
   "outputs": [
    {
     "data": {
      "text/plain": [
       "0       1\n",
       "1       1\n",
       "2       1\n",
       "3       1\n",
       "4       0\n",
       "       ..\n",
       "3454    1\n",
       "3455    1\n",
       "3456    1\n",
       "3457    1\n",
       "3458    1\n",
       "Name: Status Mission, Length: 3459, dtype: int64"
      ]
     },
     "execution_count": 26,
     "metadata": {},
     "output_type": "execute_result"
    }
   ],
   "source": [
    "data[\"Status Mission\"]"
   ]
  },
  {
   "cell_type": "code",
   "execution_count": 27,
   "metadata": {
    "execution": {
     "iopub.execute_input": "2025-01-06T17:51:31.655260Z",
     "iopub.status.busy": "2025-01-06T17:51:31.654893Z",
     "iopub.status.idle": "2025-01-06T17:51:31.675234Z",
     "shell.execute_reply": "2025-01-06T17:51:31.674186Z",
     "shell.execute_reply.started": "2025-01-06T17:51:31.655228Z"
    },
    "trusted": true
   },
   "outputs": [],
   "source": [
    "from sklearn.preprocessing import MinMaxScaler\n",
    "\n",
    "scaler = MinMaxScaler()\n",
    "X_train = scaler.fit_transform(x_train)\n",
    "X_test = scaler.transform(x_test)\n",
    "\n",
    "x_train=np.array(x_train)\n",
    "x_test=np.array(x_test)\n",
    "\n",
    "x_train=x_train.reshape(-1,12,1)\n",
    "x_test=x_test.reshape(-1,12,1)\n"
   ]
  },
  {
   "cell_type": "code",
   "execution_count": 28,
   "metadata": {
    "execution": {
     "iopub.execute_input": "2025-01-06T17:51:31.677666Z",
     "iopub.status.busy": "2025-01-06T17:51:31.677347Z",
     "iopub.status.idle": "2025-01-06T17:51:31.685402Z",
     "shell.execute_reply": "2025-01-06T17:51:31.684393Z",
     "shell.execute_reply.started": "2025-01-06T17:51:31.677636Z"
    },
    "trusted": true
   },
   "outputs": [
    {
     "data": {
      "text/plain": [
       "'model = Sequential([\\n    Dense(128,activation=\"relu\",input_shape=(12,)),\\n    Dense(64,activation=\"relu\"),\\n    Dense(32,activation=\"relu\"),\\n    Dense(16,activation=\"relu\"),\\n    Dense(1,activation=\"sigmoid\")\\n])\\n\\n\\nmodel.compile(optimizer=\"adam\",loss=\"binary_crossentropy\",metrics=[\"accuracy\"])'"
      ]
     },
     "execution_count": 28,
     "metadata": {},
     "output_type": "execute_result"
    }
   ],
   "source": [
    "'''model = Sequential([\n",
    "    Dense(128,activation=\"relu\",input_shape=(12,)),\n",
    "    Dense(64,activation=\"relu\"),\n",
    "    Dense(32,activation=\"relu\"),\n",
    "    Dense(16,activation=\"relu\"),\n",
    "    Dense(1,activation=\"sigmoid\")\n",
    "])\n",
    "\n",
    "\n",
    "model.compile(optimizer=\"adam\",loss=\"binary_crossentropy\",metrics=[\"accuracy\"])'''"
   ]
  },
  {
   "cell_type": "code",
   "execution_count": 29,
   "metadata": {
    "execution": {
     "iopub.execute_input": "2025-01-06T17:51:31.686887Z",
     "iopub.status.busy": "2025-01-06T17:51:31.686442Z",
     "iopub.status.idle": "2025-01-06T17:51:31.702007Z",
     "shell.execute_reply": "2025-01-06T17:51:31.700824Z",
     "shell.execute_reply.started": "2025-01-06T17:51:31.686847Z"
    },
    "trusted": true
   },
   "outputs": [
    {
     "data": {
      "text/plain": [
       "(2767, 12, 1)"
      ]
     },
     "execution_count": 29,
     "metadata": {},
     "output_type": "execute_result"
    }
   ],
   "source": [
    "x_train.shape"
   ]
  },
  {
   "cell_type": "code",
   "execution_count": 49,
   "metadata": {
    "execution": {
     "iopub.execute_input": "2025-01-06T17:54:11.606582Z",
     "iopub.status.busy": "2025-01-06T17:54:11.606119Z",
     "iopub.status.idle": "2025-01-06T17:55:24.153618Z",
     "shell.execute_reply": "2025-01-06T17:55:24.151931Z",
     "shell.execute_reply.started": "2025-01-06T17:54:11.606546Z"
    },
    "trusted": true
   },
   "outputs": [
    {
     "name": "stderr",
     "output_type": "stream",
     "text": [
      "/usr/local/lib/python3.10/dist-packages/keras/src/layers/rnn/bidirectional.py:107: UserWarning: Do not pass an `input_shape`/`input_dim` argument to a layer. When using Sequential models, prefer using an `Input(shape)` object as the first layer in the model instead.\n",
      "  super().__init__(**kwargs)\n"
     ]
    },
    {
     "name": "stdout",
     "output_type": "stream",
     "text": [
      "Epoch 1/10\n",
      "\u001b[1m87/87\u001b[0m \u001b[32m━━━━━━━━━━━━━━━━━━━━\u001b[0m\u001b[37m\u001b[0m \u001b[1m16s\u001b[0m 71ms/step - accuracy: 0.7989 - loss: 7.8396 - val_accuracy: 0.9104 - val_loss: 3.3510\n",
      "Epoch 2/10\n",
      "\u001b[1m87/87\u001b[0m \u001b[32m━━━━━━━━━━━━━━━━━━━━\u001b[0m\u001b[37m\u001b[0m \u001b[1m5s\u001b[0m 59ms/step - accuracy: 0.8987 - loss: 2.6995 - val_accuracy: 0.9104 - val_loss: 1.5398\n",
      "Epoch 3/10\n",
      "\u001b[1m87/87\u001b[0m \u001b[32m━━━━━━━━━━━━━━━━━━━━\u001b[0m\u001b[37m\u001b[0m \u001b[1m5s\u001b[0m 59ms/step - accuracy: 0.8915 - loss: 1.3222 - val_accuracy: 0.9104 - val_loss: 0.9135\n",
      "Epoch 4/10\n",
      "\u001b[1m87/87\u001b[0m \u001b[32m━━━━━━━━━━━━━━━━━━━━\u001b[0m\u001b[37m\u001b[0m \u001b[1m5s\u001b[0m 59ms/step - accuracy: 0.8951 - loss: 0.8343 - val_accuracy: 0.9104 - val_loss: 0.6894\n",
      "Epoch 5/10\n",
      "\u001b[1m87/87\u001b[0m \u001b[32m━━━━━━━━━━━━━━━━━━━━\u001b[0m\u001b[37m\u001b[0m \u001b[1m10s\u001b[0m 59ms/step - accuracy: 0.8955 - loss: 0.6151 - val_accuracy: 0.9104 - val_loss: 0.5158\n",
      "Epoch 6/10\n",
      "\u001b[1m87/87\u001b[0m \u001b[32m━━━━━━━━━━━━━━━━━━━━\u001b[0m\u001b[37m\u001b[0m \u001b[1m6s\u001b[0m 65ms/step - accuracy: 0.8989 - loss: 0.4961 - val_accuracy: 0.9104 - val_loss: 0.4188\n",
      "Epoch 7/10\n",
      "\u001b[1m87/87\u001b[0m \u001b[32m━━━━━━━━━━━━━━━━━━━━\u001b[0m\u001b[37m\u001b[0m \u001b[1m10s\u001b[0m 60ms/step - accuracy: 0.8981 - loss: 0.4417 - val_accuracy: 0.9104 - val_loss: 0.4170\n",
      "Epoch 8/10\n",
      "\u001b[1m87/87\u001b[0m \u001b[32m━━━━━━━━━━━━━━━━━━━━\u001b[0m\u001b[37m\u001b[0m \u001b[1m5s\u001b[0m 57ms/step - accuracy: 0.8972 - loss: 0.4273 - val_accuracy: 0.9104 - val_loss: 0.3768\n",
      "Epoch 9/10\n",
      "\u001b[1m87/87\u001b[0m \u001b[32m━━━━━━━━━━━━━━━━━━━━\u001b[0m\u001b[37m\u001b[0m \u001b[1m5s\u001b[0m 57ms/step - accuracy: 0.8934 - loss: 0.4089 - val_accuracy: 0.9104 - val_loss: 0.3898\n",
      "Epoch 10/10\n",
      "\u001b[1m87/87\u001b[0m \u001b[32m━━━━━━━━━━━━━━━━━━━━\u001b[0m\u001b[37m\u001b[0m \u001b[1m5s\u001b[0m 58ms/step - accuracy: 0.8997 - loss: 0.3995 - val_accuracy: 0.9104 - val_loss: 0.3778\n"
     ]
    },
    {
     "data": {
      "text/plain": [
       "<keras.src.callbacks.history.History at 0x79671ee078e0>"
      ]
     },
     "execution_count": 49,
     "metadata": {},
     "output_type": "execute_result"
    }
   ],
   "source": [
    "from tensorflow.keras.models import Sequential\n",
    "from tensorflow.keras.layers import Dense, Dropout\n",
    "from tensorflow.keras.regularizers import l2\n",
    "\n",
    "from tensorflow.keras.layers import BatchNormalization, Bidirectional\n",
    "\n",
    "model = Sequential([\n",
    "    Bidirectional(LSTM(128, activation=\"tanh\", return_sequences=True, kernel_regularizer=l2(0.01)), input_shape=(12, 1)),\n",
    "    Dropout(0.4),\n",
    "    BatchNormalization(),\n",
    "\n",
    "    Bidirectional(LSTM(128, activation=\"tanh\", return_sequences=True, kernel_regularizer=l2(0.01))),\n",
    "    Dropout(0.2),\n",
    "    BatchNormalization(),\n",
    "\n",
    "    LSTM(64, activation=\"tanh\", kernel_regularizer=l2(0.01)),\n",
    "    Dropout(0.4),\n",
    "    BatchNormalization(),\n",
    "\n",
    "    Dense(64, activation=\"relu\"),\n",
    "    Dropout(0.1),\n",
    "    Dense(32, activation=\"relu\"),\n",
    "    Dropout(0.1),\n",
    "    Dense(1, activation=\"sigmoid\")\n",
    "])\n",
    "\n",
    "model.compile(optimizer=\"adam\", loss=\"binary_crossentropy\", metrics=[\"accuracy\"])\n",
    "\n",
    "# Implement early stopping and learning rate reduction\n",
    "from tensorflow.keras.callbacks import EarlyStopping, ReduceLROnPlateau\n",
    "\n",
    "#early_stopping = EarlyStopping(monitor='val_loss', patience=5, restore_best_weights=True)\n",
    "\n",
    "lr_scheduler = ReduceLROnPlateau(monitor='val_loss', factor=0.2, patience=3, min_lr=1e-6)\n",
    "\n",
    "# Train model\n",
    "model.fit(x_train, y_train, validation_data=(x_test, y_test), epochs=10)\n"
   ]
  },
  {
   "cell_type": "code",
   "execution_count": 50,
   "metadata": {
    "execution": {
     "iopub.execute_input": "2025-01-06T17:55:26.248620Z",
     "iopub.status.busy": "2025-01-06T17:55:26.248237Z",
     "iopub.status.idle": "2025-01-06T17:55:28.363219Z",
     "shell.execute_reply": "2025-01-06T17:55:28.360906Z",
     "shell.execute_reply.started": "2025-01-06T17:55:26.248585Z"
    },
    "trusted": true
   },
   "outputs": [
    {
     "name": "stdout",
     "output_type": "stream",
     "text": [
      "\u001b[1m22/22\u001b[0m \u001b[32m━━━━━━━━━━━━━━━━━━━━\u001b[0m\u001b[37m\u001b[0m \u001b[1m2s\u001b[0m 57ms/step\n",
      "F1 Score: 0.9531013615733737\n"
     ]
    }
   ],
   "source": [
    "prediction_test=model.predict(x_test)\n",
    "\n",
    "\n",
    "from sklearn.metrics import f1_score\n",
    "\n",
    "threshold = 0.5\n",
    "y_pred = [1 if prob >= threshold else 0 for prob in prediction_test ]\n",
    "\n",
    "\n",
    "f1 = f1_score(y_pred,y_test)  # Use 'binary' for binary classification\n",
    "print(f\"F1 Score: {f1}\")"
   ]
  },
  {
   "cell_type": "code",
   "execution_count": 32,
   "metadata": {
    "execution": {
     "iopub.execute_input": "2025-01-06T17:52:36.067596Z",
     "iopub.status.busy": "2025-01-06T17:52:36.067210Z",
     "iopub.status.idle": "2025-01-06T17:52:36.094836Z",
     "shell.execute_reply": "2025-01-06T17:52:36.093546Z",
     "shell.execute_reply.started": "2025-01-06T17:52:36.067543Z"
    },
    "trusted": true
   },
   "outputs": [
    {
     "name": "stdout",
     "output_type": "stream",
     "text": [
      "<class 'pandas.core.frame.DataFrame'>\n",
      "RangeIndex: 865 entries, 0 to 864\n",
      "Data columns (total 9 columns):\n",
      " #   Column         Non-Null Count  Dtype \n",
      "---  ------         --------------  ----- \n",
      " 0   Serial Number  865 non-null    int64 \n",
      " 1   Unnamed: 0.1   865 non-null    int64 \n",
      " 2   Unnamed: 0     865 non-null    int64 \n",
      " 3   Company Name   865 non-null    object\n",
      " 4   Location       865 non-null    object\n",
      " 5   Datum          865 non-null    object\n",
      " 6   Detail         865 non-null    object\n",
      " 7   Status Rocket  865 non-null    object\n",
      " 8    Rocket        213 non-null    object\n",
      "dtypes: int64(3), object(6)\n",
      "memory usage: 60.9+ KB\n"
     ]
    }
   ],
   "source": [
    "testing=pd.read_csv(\"/kaggle/input/sky-cast-margazhi-25/test.csv\")\n",
    "testing.head(10)\n",
    "testing.info()"
   ]
  },
  {
   "cell_type": "code",
   "execution_count": 33,
   "metadata": {
    "execution": {
     "iopub.execute_input": "2025-01-06T17:52:36.096403Z",
     "iopub.status.busy": "2025-01-06T17:52:36.095979Z",
     "iopub.status.idle": "2025-01-06T17:52:36.104022Z",
     "shell.execute_reply": "2025-01-06T17:52:36.102436Z",
     "shell.execute_reply.started": "2025-01-06T17:52:36.096364Z"
    },
    "trusted": true
   },
   "outputs": [],
   "source": [
    "testing=testing.drop(\"Serial Number\",axis=1)\n",
    "testing=testing.drop(\"Unnamed: 0.1\",axis=1)\n",
    "testing=testing.drop(\"Unnamed: 0\",axis=1)"
   ]
  },
  {
   "cell_type": "code",
   "execution_count": 34,
   "metadata": {
    "execution": {
     "iopub.execute_input": "2025-01-06T17:52:36.105536Z",
     "iopub.status.busy": "2025-01-06T17:52:36.105171Z",
     "iopub.status.idle": "2025-01-06T17:52:36.127070Z",
     "shell.execute_reply": "2025-01-06T17:52:36.125891Z",
     "shell.execute_reply.started": "2025-01-06T17:52:36.105500Z"
    },
    "trusted": true
   },
   "outputs": [],
   "source": [
    "from sklearn.preprocessing import LabelEncoder\n",
    "\n",
    "encoder = LabelEncoder()\n",
    "\n",
    "testing[\"Company Name\"]=encoder.fit_transform(testing[\"Company Name\"])\n",
    "\n",
    "testing[\"Status Rocket\"]=encoder.fit_transform(testing[\"Status Rocket\"])"
   ]
  },
  {
   "cell_type": "code",
   "execution_count": 35,
   "metadata": {
    "execution": {
     "iopub.execute_input": "2025-01-06T17:52:36.128525Z",
     "iopub.status.busy": "2025-01-06T17:52:36.128161Z",
     "iopub.status.idle": "2025-01-06T17:52:36.146152Z",
     "shell.execute_reply": "2025-01-06T17:52:36.144787Z",
     "shell.execute_reply.started": "2025-01-06T17:52:36.128488Z"
    },
    "trusted": true
   },
   "outputs": [],
   "source": [
    "testing[' Rocket'] = testing[' Rocket'].str.replace(',', '').str.strip().astype(float)"
   ]
  },
  {
   "cell_type": "code",
   "execution_count": 36,
   "metadata": {
    "execution": {
     "iopub.execute_input": "2025-01-06T17:52:36.147674Z",
     "iopub.status.busy": "2025-01-06T17:52:36.147319Z",
     "iopub.status.idle": "2025-01-06T17:52:36.167192Z",
     "shell.execute_reply": "2025-01-06T17:52:36.165837Z",
     "shell.execute_reply.started": "2025-01-06T17:52:36.147644Z"
    },
    "trusted": true
   },
   "outputs": [],
   "source": [
    "from sklearn.impute import SimpleImputer\n",
    "\n",
    "imputer = SimpleImputer(missing_values=np.nan, strategy='mean')\n",
    "\n",
    "testing[\" Rocket\"] = imputer.fit_transform(testing[[\" Rocket\"]])"
   ]
  },
  {
   "cell_type": "code",
   "execution_count": 37,
   "metadata": {
    "execution": {
     "iopub.execute_input": "2025-01-06T17:52:36.168795Z",
     "iopub.status.busy": "2025-01-06T17:52:36.168318Z",
     "iopub.status.idle": "2025-01-06T17:52:36.312949Z",
     "shell.execute_reply": "2025-01-06T17:52:36.311941Z",
     "shell.execute_reply.started": "2025-01-06T17:52:36.168745Z"
    },
    "trusted": true
   },
   "outputs": [
    {
     "data": {
      "text/html": [
       "<div>\n",
       "<style scoped>\n",
       "    .dataframe tbody tr th:only-of-type {\n",
       "        vertical-align: middle;\n",
       "    }\n",
       "\n",
       "    .dataframe tbody tr th {\n",
       "        vertical-align: top;\n",
       "    }\n",
       "\n",
       "    .dataframe thead th {\n",
       "        text-align: right;\n",
       "    }\n",
       "</style>\n",
       "<table border=\"1\" class=\"dataframe\">\n",
       "  <thead>\n",
       "    <tr style=\"text-align: right;\">\n",
       "      <th></th>\n",
       "      <th>Company Name</th>\n",
       "      <th>Location</th>\n",
       "      <th>Datum</th>\n",
       "      <th>Status Rocket</th>\n",
       "      <th>Rocket</th>\n",
       "      <th>rocket_name</th>\n",
       "      <th>sat_name</th>\n",
       "    </tr>\n",
       "  </thead>\n",
       "  <tbody>\n",
       "    <tr>\n",
       "      <th>0</th>\n",
       "      <td>30</td>\n",
       "      <td>LC-39A, Kennedy Space Center, Florida, USA</td>\n",
       "      <td>Thu Jul 25, 1985 21:00 UTC</td>\n",
       "      <td>1</td>\n",
       "      <td>450.000000</td>\n",
       "      <td>Space Shuttle Challenger</td>\n",
       "      <td>STS-51-F</td>\n",
       "    </tr>\n",
       "    <tr>\n",
       "      <th>1</th>\n",
       "      <td>37</td>\n",
       "      <td>SLC-40, Cape Canaveral AFS, Florida, USA</td>\n",
       "      <td>Tue Jun 30, 2020 20:10 UTC</td>\n",
       "      <td>0</td>\n",
       "      <td>50.000000</td>\n",
       "      <td>Falcon 9 Block 5</td>\n",
       "      <td>GPS III SV03</td>\n",
       "    </tr>\n",
       "    <tr>\n",
       "      <th>2</th>\n",
       "      <td>33</td>\n",
       "      <td>Site 133/3, Plesetsk Cosmodrome, Russia</td>\n",
       "      <td>Tue Nov 21, 1967 14:29 UTC</td>\n",
       "      <td>1</td>\n",
       "      <td>124.665211</td>\n",
       "      <td>Cosmos-2I (63SM)</td>\n",
       "      <td>Cosmos 191</td>\n",
       "    </tr>\n",
       "    <tr>\n",
       "      <th>3</th>\n",
       "      <td>38</td>\n",
       "      <td>SLC-41, Cape Canaveral AFS, Florida, USA</td>\n",
       "      <td>Mon Nov 18, 2013 18:28 UTC</td>\n",
       "      <td>0</td>\n",
       "      <td>109.000000</td>\n",
       "      <td>Atlas V 401</td>\n",
       "      <td>MAVEN</td>\n",
       "    </tr>\n",
       "    <tr>\n",
       "      <th>4</th>\n",
       "      <td>33</td>\n",
       "      <td>Site 1/5, Baikonur Cosmodrome, Kazakhstan</td>\n",
       "      <td>Mon Oct 10, 1960 14:27 UTC</td>\n",
       "      <td>1</td>\n",
       "      <td>124.665211</td>\n",
       "      <td>Molniya</td>\n",
       "      <td>1M n†­1 (Marsnik 1)</td>\n",
       "    </tr>\n",
       "  </tbody>\n",
       "</table>\n",
       "</div>"
      ],
      "text/plain": [
       "   Company Name                                    Location  \\\n",
       "0            30  LC-39A, Kennedy Space Center, Florida, USA   \n",
       "1            37    SLC-40, Cape Canaveral AFS, Florida, USA   \n",
       "2            33     Site 133/3, Plesetsk Cosmodrome, Russia   \n",
       "3            38    SLC-41, Cape Canaveral AFS, Florida, USA   \n",
       "4            33   Site 1/5, Baikonur Cosmodrome, Kazakhstan   \n",
       "\n",
       "                        Datum  Status Rocket      Rocket  \\\n",
       "0  Thu Jul 25, 1985 21:00 UTC              1  450.000000   \n",
       "1  Tue Jun 30, 2020 20:10 UTC              0   50.000000   \n",
       "2  Tue Nov 21, 1967 14:29 UTC              1  124.665211   \n",
       "3  Mon Nov 18, 2013 18:28 UTC              0  109.000000   \n",
       "4  Mon Oct 10, 1960 14:27 UTC              1  124.665211   \n",
       "\n",
       "                 rocket_name              sat_name  \n",
       "0  Space Shuttle Challenger               STS-51-F  \n",
       "1          Falcon 9 Block 5           GPS III SV03  \n",
       "2          Cosmos-2I (63SM)             Cosmos 191  \n",
       "3               Atlas V 401                  MAVEN  \n",
       "4                   Molniya    1M n†­1 (Marsnik 1)  "
      ]
     },
     "execution_count": 37,
     "metadata": {},
     "output_type": "execute_result"
    }
   ],
   "source": [
    "pd.options.mode.copy_on_write = True\n",
    "k = 0\n",
    "for i in testing[\"Detail\"]:\n",
    "    j = i.split(\"|\")\n",
    "    testing.loc[k, \"rocket_name\"] = j[0]\n",
    "    testing.loc[k, \"sat_name\"] = j[1]\n",
    "    k += 1\n",
    "\n",
    "testing=testing.drop(\"Detail\",axis=1)\n",
    "testing.head(5)"
   ]
  },
  {
   "cell_type": "code",
   "execution_count": 38,
   "metadata": {
    "execution": {
     "iopub.execute_input": "2025-01-06T17:52:36.313951Z",
     "iopub.status.busy": "2025-01-06T17:52:36.313674Z",
     "iopub.status.idle": "2025-01-06T17:52:36.341416Z",
     "shell.execute_reply": "2025-01-06T17:52:36.340342Z",
     "shell.execute_reply.started": "2025-01-06T17:52:36.313928Z"
    },
    "trusted": true
   },
   "outputs": [
    {
     "data": {
      "text/plain": [
       "'Conversion successful.'"
      ]
     },
     "execution_count": 38,
     "metadata": {},
     "output_type": "execute_result"
    }
   ],
   "source": [
    "def standardize_datum(value):\n",
    "    if len(value.split()) == 4:  \n",
    "        return f\"{value} 00:00 UTC\"\n",
    "    return value\n",
    "\n",
    "# Standardize the 'Datum' column\n",
    "testing['Datum'] = testing['Datum'].apply(standardize_datum)\n",
    "\n",
    "\n",
    "try:\n",
    "    testing['Datum'] = pd.to_datetime(testing['Datum'], format=\"%a %b %d, %Y %H:%M %Z\")\n",
    "    conversion_status = \"Conversion successful.\"\n",
    "except Exception as e:\n",
    "    conversion_status = f\"Conversion failed: {e}\"\n",
    "\n",
    "conversion_status"
   ]
  },
  {
   "cell_type": "code",
   "execution_count": 39,
   "metadata": {
    "execution": {
     "iopub.execute_input": "2025-01-06T17:52:36.342723Z",
     "iopub.status.busy": "2025-01-06T17:52:36.342381Z",
     "iopub.status.idle": "2025-01-06T17:52:36.362662Z",
     "shell.execute_reply": "2025-01-06T17:52:36.361638Z",
     "shell.execute_reply.started": "2025-01-06T17:52:36.342692Z"
    },
    "trusted": true
   },
   "outputs": [
    {
     "data": {
      "text/html": [
       "<div>\n",
       "<style scoped>\n",
       "    .dataframe tbody tr th:only-of-type {\n",
       "        vertical-align: middle;\n",
       "    }\n",
       "\n",
       "    .dataframe tbody tr th {\n",
       "        vertical-align: top;\n",
       "    }\n",
       "\n",
       "    .dataframe thead th {\n",
       "        text-align: right;\n",
       "    }\n",
       "</style>\n",
       "<table border=\"1\" class=\"dataframe\">\n",
       "  <thead>\n",
       "    <tr style=\"text-align: right;\">\n",
       "      <th></th>\n",
       "      <th>Company Name</th>\n",
       "      <th>Location</th>\n",
       "      <th>Status Rocket</th>\n",
       "      <th>Rocket</th>\n",
       "      <th>rocket_name</th>\n",
       "      <th>sat_name</th>\n",
       "      <th>year</th>\n",
       "      <th>month</th>\n",
       "      <th>day</th>\n",
       "      <th>hour</th>\n",
       "    </tr>\n",
       "  </thead>\n",
       "  <tbody>\n",
       "    <tr>\n",
       "      <th>0</th>\n",
       "      <td>30</td>\n",
       "      <td>LC-39A, Kennedy Space Center, Florida, USA</td>\n",
       "      <td>1</td>\n",
       "      <td>450.000000</td>\n",
       "      <td>Space Shuttle Challenger</td>\n",
       "      <td>STS-51-F</td>\n",
       "      <td>1985</td>\n",
       "      <td>7</td>\n",
       "      <td>25</td>\n",
       "      <td>21</td>\n",
       "    </tr>\n",
       "    <tr>\n",
       "      <th>1</th>\n",
       "      <td>37</td>\n",
       "      <td>SLC-40, Cape Canaveral AFS, Florida, USA</td>\n",
       "      <td>0</td>\n",
       "      <td>50.000000</td>\n",
       "      <td>Falcon 9 Block 5</td>\n",
       "      <td>GPS III SV03</td>\n",
       "      <td>2020</td>\n",
       "      <td>6</td>\n",
       "      <td>30</td>\n",
       "      <td>20</td>\n",
       "    </tr>\n",
       "    <tr>\n",
       "      <th>2</th>\n",
       "      <td>33</td>\n",
       "      <td>Site 133/3, Plesetsk Cosmodrome, Russia</td>\n",
       "      <td>1</td>\n",
       "      <td>124.665211</td>\n",
       "      <td>Cosmos-2I (63SM)</td>\n",
       "      <td>Cosmos 191</td>\n",
       "      <td>1967</td>\n",
       "      <td>11</td>\n",
       "      <td>21</td>\n",
       "      <td>14</td>\n",
       "    </tr>\n",
       "    <tr>\n",
       "      <th>3</th>\n",
       "      <td>38</td>\n",
       "      <td>SLC-41, Cape Canaveral AFS, Florida, USA</td>\n",
       "      <td>0</td>\n",
       "      <td>109.000000</td>\n",
       "      <td>Atlas V 401</td>\n",
       "      <td>MAVEN</td>\n",
       "      <td>2013</td>\n",
       "      <td>11</td>\n",
       "      <td>18</td>\n",
       "      <td>18</td>\n",
       "    </tr>\n",
       "    <tr>\n",
       "      <th>4</th>\n",
       "      <td>33</td>\n",
       "      <td>Site 1/5, Baikonur Cosmodrome, Kazakhstan</td>\n",
       "      <td>1</td>\n",
       "      <td>124.665211</td>\n",
       "      <td>Molniya</td>\n",
       "      <td>1M n†­1 (Marsnik 1)</td>\n",
       "      <td>1960</td>\n",
       "      <td>10</td>\n",
       "      <td>10</td>\n",
       "      <td>14</td>\n",
       "    </tr>\n",
       "  </tbody>\n",
       "</table>\n",
       "</div>"
      ],
      "text/plain": [
       "   Company Name                                    Location  Status Rocket  \\\n",
       "0            30  LC-39A, Kennedy Space Center, Florida, USA              1   \n",
       "1            37    SLC-40, Cape Canaveral AFS, Florida, USA              0   \n",
       "2            33     Site 133/3, Plesetsk Cosmodrome, Russia              1   \n",
       "3            38    SLC-41, Cape Canaveral AFS, Florida, USA              0   \n",
       "4            33   Site 1/5, Baikonur Cosmodrome, Kazakhstan              1   \n",
       "\n",
       "       Rocket                rocket_name              sat_name  year  month  \\\n",
       "0  450.000000  Space Shuttle Challenger               STS-51-F  1985      7   \n",
       "1   50.000000          Falcon 9 Block 5           GPS III SV03  2020      6   \n",
       "2  124.665211          Cosmos-2I (63SM)             Cosmos 191  1967     11   \n",
       "3  109.000000               Atlas V 401                  MAVEN  2013     11   \n",
       "4  124.665211                   Molniya    1M n†­1 (Marsnik 1)  1960     10   \n",
       "\n",
       "   day  hour  \n",
       "0   25    21  \n",
       "1   30    20  \n",
       "2   21    14  \n",
       "3   18    18  \n",
       "4   10    14  "
      ]
     },
     "execution_count": 39,
     "metadata": {},
     "output_type": "execute_result"
    }
   ],
   "source": [
    "testing[\"year\"]=testing[\"Datum\"].dt.year\n",
    "testing[\"month\"]=testing[\"Datum\"].dt.month\n",
    "testing[\"day\"]=testing[\"Datum\"].dt.day\n",
    "testing[\"hour\"]=testing[\"Datum\"].dt.hour\n",
    "testing=testing.drop(\"Datum\",axis=1)\n",
    "testing.head(5)"
   ]
  },
  {
   "cell_type": "code",
   "execution_count": 40,
   "metadata": {
    "execution": {
     "iopub.execute_input": "2025-01-06T17:52:36.363911Z",
     "iopub.status.busy": "2025-01-06T17:52:36.363622Z",
     "iopub.status.idle": "2025-01-06T17:52:36.374625Z",
     "shell.execute_reply": "2025-01-06T17:52:36.373201Z",
     "shell.execute_reply.started": "2025-01-06T17:52:36.363885Z"
    },
    "trusted": true
   },
   "outputs": [],
   "source": [
    "location_split = testing['Location'].str.split(',', expand=True)\n",
    "testing['center'] = location_split.iloc[:, 1].str.strip()\n",
    "testing=testing.drop(\"Location\",axis=1)"
   ]
  },
  {
   "cell_type": "code",
   "execution_count": 41,
   "metadata": {
    "execution": {
     "iopub.execute_input": "2025-01-06T17:52:36.376239Z",
     "iopub.status.busy": "2025-01-06T17:52:36.375807Z",
     "iopub.status.idle": "2025-01-06T17:52:36.395280Z",
     "shell.execute_reply": "2025-01-06T17:52:36.393955Z",
     "shell.execute_reply.started": "2025-01-06T17:52:36.376181Z"
    },
    "trusted": true
   },
   "outputs": [],
   "source": [
    "testing[\"center\"]=encoder.fit_transform(testing[\"center\"])\n",
    "\n",
    "testing[\"rocket_name\"]=encoder.fit_transform(testing[\"rocket_name\"])\n",
    "\n",
    "testing[\"sat_name\"]=encoder.fit_transform(testing[\"sat_name\"])"
   ]
  },
  {
   "cell_type": "code",
   "execution_count": 42,
   "metadata": {
    "execution": {
     "iopub.execute_input": "2025-01-06T17:52:36.396825Z",
     "iopub.status.busy": "2025-01-06T17:52:36.396381Z",
     "iopub.status.idle": "2025-01-06T17:52:36.418425Z",
     "shell.execute_reply": "2025-01-06T17:52:36.417277Z",
     "shell.execute_reply.started": "2025-01-06T17:52:36.396782Z"
    },
    "trusted": true
   },
   "outputs": [],
   "source": [
    "testing.head(10)\n",
    "from sklearn.preprocessing import MinMaxScaler\n",
    "\n",
    "scaler = MinMaxScaler()\n",
    "testing = scaler.fit_transform(testing)\n",
    "testing=np.array(testing)\n",
    "\n",
    "\n",
    "testing=testing.reshape(-1,10,1)\n"
   ]
  },
  {
   "cell_type": "code",
   "execution_count": 43,
   "metadata": {
    "execution": {
     "iopub.execute_input": "2025-01-06T17:52:36.420081Z",
     "iopub.status.busy": "2025-01-06T17:52:36.419669Z",
     "iopub.status.idle": "2025-01-06T17:52:37.689108Z",
     "shell.execute_reply": "2025-01-06T17:52:37.687802Z",
     "shell.execute_reply.started": "2025-01-06T17:52:36.420037Z"
    },
    "trusted": true
   },
   "outputs": [
    {
     "name": "stdout",
     "output_type": "stream",
     "text": [
      "\u001b[1m28/28\u001b[0m \u001b[32m━━━━━━━━━━━━━━━━━━━━\u001b[0m\u001b[37m\u001b[0m \u001b[1m1s\u001b[0m 15ms/step\n"
     ]
    }
   ],
   "source": [
    "prediction=model.predict(testing)"
   ]
  },
  {
   "cell_type": "code",
   "execution_count": 44,
   "metadata": {
    "execution": {
     "iopub.execute_input": "2025-01-06T17:52:37.690881Z",
     "iopub.status.busy": "2025-01-06T17:52:37.690553Z",
     "iopub.status.idle": "2025-01-06T17:52:37.697279Z",
     "shell.execute_reply": "2025-01-06T17:52:37.696245Z",
     "shell.execute_reply.started": "2025-01-06T17:52:37.690850Z"
    },
    "trusted": true
   },
   "outputs": [
    {
     "data": {
      "text/plain": [
       "865"
      ]
     },
     "execution_count": 44,
     "metadata": {},
     "output_type": "execute_result"
    }
   ],
   "source": [
    "len(prediction)"
   ]
  },
  {
   "cell_type": "code",
   "execution_count": 45,
   "metadata": {
    "execution": {
     "iopub.execute_input": "2025-01-06T17:52:37.698817Z",
     "iopub.status.busy": "2025-01-06T17:52:37.698356Z",
     "iopub.status.idle": "2025-01-06T17:52:37.724660Z",
     "shell.execute_reply": "2025-01-06T17:52:37.723495Z",
     "shell.execute_reply.started": "2025-01-06T17:52:37.698787Z"
    },
    "trusted": true
   },
   "outputs": [],
   "source": [
    "thresholded_values = (prediction >= 0.5).astype(int)\n",
    "\n",
    "hello=pd.read_csv(\"/kaggle/input/sky-cast-margazhi-25/test.csv\")\n",
    "# Create a dataframe for the submission\n",
    "submission_df = pd.DataFrame({\n",
    "    'Serial Number': hello[\"Serial Number\"] ,\n",
    "    'Status Mission': thresholded_values.flatten()\n",
    "})\n",
    "\n",
    "submission_df.to_csv('submission.csv', index=False)\n"
   ]
  },
  {
   "cell_type": "code",
   "execution_count": 46,
   "metadata": {
    "execution": {
     "iopub.execute_input": "2025-01-06T17:52:37.726417Z",
     "iopub.status.busy": "2025-01-06T17:52:37.725924Z",
     "iopub.status.idle": "2025-01-06T17:52:37.738412Z",
     "shell.execute_reply": "2025-01-06T17:52:37.737140Z",
     "shell.execute_reply.started": "2025-01-06T17:52:37.726384Z"
    },
    "trusted": true
   },
   "outputs": [
    {
     "data": {
      "text/html": [
       "<div>\n",
       "<style scoped>\n",
       "    .dataframe tbody tr th:only-of-type {\n",
       "        vertical-align: middle;\n",
       "    }\n",
       "\n",
       "    .dataframe tbody tr th {\n",
       "        vertical-align: top;\n",
       "    }\n",
       "\n",
       "    .dataframe thead th {\n",
       "        text-align: right;\n",
       "    }\n",
       "</style>\n",
       "<table border=\"1\" class=\"dataframe\">\n",
       "  <thead>\n",
       "    <tr style=\"text-align: right;\">\n",
       "      <th></th>\n",
       "      <th>Serial Number</th>\n",
       "      <th>Status Mission</th>\n",
       "    </tr>\n",
       "  </thead>\n",
       "  <tbody>\n",
       "    <tr>\n",
       "      <th>855</th>\n",
       "      <td>991</td>\n",
       "      <td>1</td>\n",
       "    </tr>\n",
       "    <tr>\n",
       "      <th>856</th>\n",
       "      <td>2851</td>\n",
       "      <td>1</td>\n",
       "    </tr>\n",
       "    <tr>\n",
       "      <th>857</th>\n",
       "      <td>2269</td>\n",
       "      <td>1</td>\n",
       "    </tr>\n",
       "    <tr>\n",
       "      <th>858</th>\n",
       "      <td>1878</td>\n",
       "      <td>1</td>\n",
       "    </tr>\n",
       "    <tr>\n",
       "      <th>859</th>\n",
       "      <td>140</td>\n",
       "      <td>1</td>\n",
       "    </tr>\n",
       "    <tr>\n",
       "      <th>860</th>\n",
       "      <td>1004</td>\n",
       "      <td>1</td>\n",
       "    </tr>\n",
       "    <tr>\n",
       "      <th>861</th>\n",
       "      <td>2393</td>\n",
       "      <td>1</td>\n",
       "    </tr>\n",
       "    <tr>\n",
       "      <th>862</th>\n",
       "      <td>3757</td>\n",
       "      <td>1</td>\n",
       "    </tr>\n",
       "    <tr>\n",
       "      <th>863</th>\n",
       "      <td>267</td>\n",
       "      <td>1</td>\n",
       "    </tr>\n",
       "    <tr>\n",
       "      <th>864</th>\n",
       "      <td>2481</td>\n",
       "      <td>1</td>\n",
       "    </tr>\n",
       "  </tbody>\n",
       "</table>\n",
       "</div>"
      ],
      "text/plain": [
       "     Serial Number  Status Mission\n",
       "855            991               1\n",
       "856           2851               1\n",
       "857           2269               1\n",
       "858           1878               1\n",
       "859            140               1\n",
       "860           1004               1\n",
       "861           2393               1\n",
       "862           3757               1\n",
       "863            267               1\n",
       "864           2481               1"
      ]
     },
     "execution_count": 46,
     "metadata": {},
     "output_type": "execute_result"
    }
   ],
   "source": [
    "submission=pd.read_csv(\"/kaggle/working/submission.csv\")\n",
    "submission.tail(10)"
   ]
  },
  {
   "cell_type": "code",
   "execution_count": 47,
   "metadata": {
    "execution": {
     "iopub.execute_input": "2025-01-06T17:52:37.739922Z",
     "iopub.status.busy": "2025-01-06T17:52:37.739599Z",
     "iopub.status.idle": "2025-01-06T17:52:37.749322Z",
     "shell.execute_reply": "2025-01-06T17:52:37.748248Z",
     "shell.execute_reply.started": "2025-01-06T17:52:37.739896Z"
    },
    "trusted": true
   },
   "outputs": [
    {
     "data": {
      "text/html": [
       "<div>\n",
       "<style scoped>\n",
       "    .dataframe tbody tr th:only-of-type {\n",
       "        vertical-align: middle;\n",
       "    }\n",
       "\n",
       "    .dataframe tbody tr th {\n",
       "        vertical-align: top;\n",
       "    }\n",
       "\n",
       "    .dataframe thead th {\n",
       "        text-align: right;\n",
       "    }\n",
       "</style>\n",
       "<table border=\"1\" class=\"dataframe\">\n",
       "  <thead>\n",
       "    <tr style=\"text-align: right;\">\n",
       "      <th></th>\n",
       "      <th>Serial Number</th>\n",
       "      <th>Status Mission</th>\n",
       "    </tr>\n",
       "  </thead>\n",
       "  <tbody>\n",
       "    <tr>\n",
       "      <th>0</th>\n",
       "      <td>2122</td>\n",
       "      <td>1</td>\n",
       "    </tr>\n",
       "    <tr>\n",
       "      <th>1</th>\n",
       "      <td>18</td>\n",
       "      <td>1</td>\n",
       "    </tr>\n",
       "    <tr>\n",
       "      <th>2</th>\n",
       "      <td>3716</td>\n",
       "      <td>1</td>\n",
       "    </tr>\n",
       "    <tr>\n",
       "      <th>3</th>\n",
       "      <td>585</td>\n",
       "      <td>1</td>\n",
       "    </tr>\n",
       "    <tr>\n",
       "      <th>4</th>\n",
       "      <td>4249</td>\n",
       "      <td>1</td>\n",
       "    </tr>\n",
       "  </tbody>\n",
       "</table>\n",
       "</div>"
      ],
      "text/plain": [
       "   Serial Number  Status Mission\n",
       "0           2122               1\n",
       "1             18               1\n",
       "2           3716               1\n",
       "3            585               1\n",
       "4           4249               1"
      ]
     },
     "execution_count": 47,
     "metadata": {},
     "output_type": "execute_result"
    }
   ],
   "source": [
    "submission.head(5)"
   ]
  },
  {
   "cell_type": "code",
   "execution_count": 48,
   "metadata": {
    "execution": {
     "iopub.execute_input": "2025-01-06T17:52:37.750854Z",
     "iopub.status.busy": "2025-01-06T17:52:37.750514Z",
     "iopub.status.idle": "2025-01-06T17:52:37.767839Z",
     "shell.execute_reply": "2025-01-06T17:52:37.766637Z",
     "shell.execute_reply.started": "2025-01-06T17:52:37.750813Z"
    },
    "trusted": true
   },
   "outputs": [],
   "source": [
    "submission.to_csv('submission.csv', index=False)"
   ]
  }
 ],
 "metadata": {
  "kaggle": {
   "accelerator": "none",
   "dataSources": [
    {
     "databundleVersionId": 10687668,
     "sourceId": 90984,
     "sourceType": "competition"
    }
   ],
   "dockerImageVersionId": 30822,
   "isGpuEnabled": false,
   "isInternetEnabled": false,
   "language": "python",
   "sourceType": "notebook"
  },
  "kernelspec": {
   "display_name": "Python 3",
   "language": "python",
   "name": "python3"
  },
  "language_info": {
   "codemirror_mode": {
    "name": "ipython",
    "version": 3
   },
   "file_extension": ".py",
   "mimetype": "text/x-python",
   "name": "python",
   "nbconvert_exporter": "python",
   "pygments_lexer": "ipython3",
   "version": "3.10.12"
  }
 },
 "nbformat": 4,
 "nbformat_minor": 4
}
