{
  "nbformat": 4,
  "nbformat_minor": 0,
  "metadata": {
    "colab": {
      "provenance": [],
      "gpuType": "T4"
    },
    "kernelspec": {
      "name": "python3",
      "display_name": "Python 3"
    },
    "language_info": {
      "name": "python"
    },
    "accelerator": "GPU"
  },
  "cells": [
    {
      "cell_type": "code",
      "execution_count": null,
      "metadata": {
        "id": "w5LZWsdIZhme"
      },
      "outputs": [],
      "source": [
        "import numpy as np\n",
        "import pandas as pd\n",
        "import matplotlib.pyplot as plt\n",
        "from tensorflow.keras.layers import Dense,LSTM,Dropout,Conv2D,BatchNormalization,Flatten,Bidirectional,Reshape,GRU\n",
        "from sklearn.preprocessing import StandardScaler\n",
        "from sklearn.model_selection import train_test_split\n",
        "from sklearn.decomposition import PCA\n",
        "from tensorflow.keras.models import Sequential"
      ]
    },
    {
      "cell_type": "code",
      "source": [
        "from sklearn.preprocessing import LabelEncoder"
      ],
      "metadata": {
        "id": "cBGKuhXHbQ2j"
      },
      "execution_count": null,
      "outputs": []
    },
    {
      "cell_type": "code",
      "source": [
        "data=pd.read_csv(\"/content/iitk.csv\")\n",
        "data.head(10)"
      ],
      "metadata": {
        "colab": {
          "base_uri": "https://localhost:8080/",
          "height": 383
        },
        "id": "aVWBzi67aVNF",
        "outputId": "fd5d13d3-8145-4f99-b54b-a1eb626f504c"
      },
      "execution_count": null,
      "outputs": [
        {
          "output_type": "execute_result",
          "data": {
            "text/plain": [
              "  Crash_Severity  Vehicle_Speed  Crash_Time  Age  Gender   Vehicle_Type  \\\n",
              "0   Minor injury            107          11   27    Male  Heavy Vehicle   \n",
              "1   Minor injury             27          16   39    Male            Car   \n",
              "2   Minor injury             87          14   42  Female            Car   \n",
              "3   Minor injury             43           3   60  Female  Heavy Vehicle   \n",
              "4   Minor injury             72           8   70    Male            T.W   \n",
              "5   Minor injury             15          20   49  Female            Car   \n",
              "6   Minor injury             62           6   70    Male            Car   \n",
              "7   Minor injury             96          17   69    Male            Car   \n",
              "8   Minor injury             85           8   40  Female            Car   \n",
              "9   Minor injury            120          21   18  Female            Car   \n",
              "\n",
              "   Number_of_Lanes  Lane_Width Road_Type Alcohol_Consumption Crash_Type  \\\n",
              "0                2    3.484386     Urban                 Yes   Rear-end   \n",
              "1                2    3.293091     Rural                 Yes   Rear-end   \n",
              "2                3    3.218911     Urban                  No   Rear-end   \n",
              "3                2    3.113012     Rural                  No   Rear-end   \n",
              "4                3    3.106580     Urban                 Yes   Rear-end   \n",
              "5                3    3.387430     Rural                 Yes   Rear-end   \n",
              "6                1    3.464110     Urban                  No    Head-on   \n",
              "7                2    3.199897     Rural                 Yes    Head-on   \n",
              "8                2    3.333741     Rural                  No    Head-on   \n",
              "9                1    3.113678     Urban                  No   Rear-end   \n",
              "\n",
              "  Seatbelt_Usage  Speed_Limit Road_Surface_Condition  \n",
              "0             No           30                    Icy  \n",
              "1            Yes          110                    Dry  \n",
              "2             No           59                    Dry  \n",
              "3             No           73                    Wet  \n",
              "4            Yes           42                    Wet  \n",
              "5            Yes          117                    Dry  \n",
              "6            Yes           55                    Dry  \n",
              "7            Yes          117                    Icy  \n",
              "8            Yes           97                    Icy  \n",
              "9             No          100                    Dry  "
            ],
            "text/html": [
              "\n",
              "  <div id=\"df-28dffdcb-9f77-4189-9fd9-fa49fa3f2f0c\" class=\"colab-df-container\">\n",
              "    <div>\n",
              "<style scoped>\n",
              "    .dataframe tbody tr th:only-of-type {\n",
              "        vertical-align: middle;\n",
              "    }\n",
              "\n",
              "    .dataframe tbody tr th {\n",
              "        vertical-align: top;\n",
              "    }\n",
              "\n",
              "    .dataframe thead th {\n",
              "        text-align: right;\n",
              "    }\n",
              "</style>\n",
              "<table border=\"1\" class=\"dataframe\">\n",
              "  <thead>\n",
              "    <tr style=\"text-align: right;\">\n",
              "      <th></th>\n",
              "      <th>Crash_Severity</th>\n",
              "      <th>Vehicle_Speed</th>\n",
              "      <th>Crash_Time</th>\n",
              "      <th>Age</th>\n",
              "      <th>Gender</th>\n",
              "      <th>Vehicle_Type</th>\n",
              "      <th>Number_of_Lanes</th>\n",
              "      <th>Lane_Width</th>\n",
              "      <th>Road_Type</th>\n",
              "      <th>Alcohol_Consumption</th>\n",
              "      <th>Crash_Type</th>\n",
              "      <th>Seatbelt_Usage</th>\n",
              "      <th>Speed_Limit</th>\n",
              "      <th>Road_Surface_Condition</th>\n",
              "    </tr>\n",
              "  </thead>\n",
              "  <tbody>\n",
              "    <tr>\n",
              "      <th>0</th>\n",
              "      <td>Minor injury</td>\n",
              "      <td>107</td>\n",
              "      <td>11</td>\n",
              "      <td>27</td>\n",
              "      <td>Male</td>\n",
              "      <td>Heavy Vehicle</td>\n",
              "      <td>2</td>\n",
              "      <td>3.484386</td>\n",
              "      <td>Urban</td>\n",
              "      <td>Yes</td>\n",
              "      <td>Rear-end</td>\n",
              "      <td>No</td>\n",
              "      <td>30</td>\n",
              "      <td>Icy</td>\n",
              "    </tr>\n",
              "    <tr>\n",
              "      <th>1</th>\n",
              "      <td>Minor injury</td>\n",
              "      <td>27</td>\n",
              "      <td>16</td>\n",
              "      <td>39</td>\n",
              "      <td>Male</td>\n",
              "      <td>Car</td>\n",
              "      <td>2</td>\n",
              "      <td>3.293091</td>\n",
              "      <td>Rural</td>\n",
              "      <td>Yes</td>\n",
              "      <td>Rear-end</td>\n",
              "      <td>Yes</td>\n",
              "      <td>110</td>\n",
              "      <td>Dry</td>\n",
              "    </tr>\n",
              "    <tr>\n",
              "      <th>2</th>\n",
              "      <td>Minor injury</td>\n",
              "      <td>87</td>\n",
              "      <td>14</td>\n",
              "      <td>42</td>\n",
              "      <td>Female</td>\n",
              "      <td>Car</td>\n",
              "      <td>3</td>\n",
              "      <td>3.218911</td>\n",
              "      <td>Urban</td>\n",
              "      <td>No</td>\n",
              "      <td>Rear-end</td>\n",
              "      <td>No</td>\n",
              "      <td>59</td>\n",
              "      <td>Dry</td>\n",
              "    </tr>\n",
              "    <tr>\n",
              "      <th>3</th>\n",
              "      <td>Minor injury</td>\n",
              "      <td>43</td>\n",
              "      <td>3</td>\n",
              "      <td>60</td>\n",
              "      <td>Female</td>\n",
              "      <td>Heavy Vehicle</td>\n",
              "      <td>2</td>\n",
              "      <td>3.113012</td>\n",
              "      <td>Rural</td>\n",
              "      <td>No</td>\n",
              "      <td>Rear-end</td>\n",
              "      <td>No</td>\n",
              "      <td>73</td>\n",
              "      <td>Wet</td>\n",
              "    </tr>\n",
              "    <tr>\n",
              "      <th>4</th>\n",
              "      <td>Minor injury</td>\n",
              "      <td>72</td>\n",
              "      <td>8</td>\n",
              "      <td>70</td>\n",
              "      <td>Male</td>\n",
              "      <td>T.W</td>\n",
              "      <td>3</td>\n",
              "      <td>3.106580</td>\n",
              "      <td>Urban</td>\n",
              "      <td>Yes</td>\n",
              "      <td>Rear-end</td>\n",
              "      <td>Yes</td>\n",
              "      <td>42</td>\n",
              "      <td>Wet</td>\n",
              "    </tr>\n",
              "    <tr>\n",
              "      <th>5</th>\n",
              "      <td>Minor injury</td>\n",
              "      <td>15</td>\n",
              "      <td>20</td>\n",
              "      <td>49</td>\n",
              "      <td>Female</td>\n",
              "      <td>Car</td>\n",
              "      <td>3</td>\n",
              "      <td>3.387430</td>\n",
              "      <td>Rural</td>\n",
              "      <td>Yes</td>\n",
              "      <td>Rear-end</td>\n",
              "      <td>Yes</td>\n",
              "      <td>117</td>\n",
              "      <td>Dry</td>\n",
              "    </tr>\n",
              "    <tr>\n",
              "      <th>6</th>\n",
              "      <td>Minor injury</td>\n",
              "      <td>62</td>\n",
              "      <td>6</td>\n",
              "      <td>70</td>\n",
              "      <td>Male</td>\n",
              "      <td>Car</td>\n",
              "      <td>1</td>\n",
              "      <td>3.464110</td>\n",
              "      <td>Urban</td>\n",
              "      <td>No</td>\n",
              "      <td>Head-on</td>\n",
              "      <td>Yes</td>\n",
              "      <td>55</td>\n",
              "      <td>Dry</td>\n",
              "    </tr>\n",
              "    <tr>\n",
              "      <th>7</th>\n",
              "      <td>Minor injury</td>\n",
              "      <td>96</td>\n",
              "      <td>17</td>\n",
              "      <td>69</td>\n",
              "      <td>Male</td>\n",
              "      <td>Car</td>\n",
              "      <td>2</td>\n",
              "      <td>3.199897</td>\n",
              "      <td>Rural</td>\n",
              "      <td>Yes</td>\n",
              "      <td>Head-on</td>\n",
              "      <td>Yes</td>\n",
              "      <td>117</td>\n",
              "      <td>Icy</td>\n",
              "    </tr>\n",
              "    <tr>\n",
              "      <th>8</th>\n",
              "      <td>Minor injury</td>\n",
              "      <td>85</td>\n",
              "      <td>8</td>\n",
              "      <td>40</td>\n",
              "      <td>Female</td>\n",
              "      <td>Car</td>\n",
              "      <td>2</td>\n",
              "      <td>3.333741</td>\n",
              "      <td>Rural</td>\n",
              "      <td>No</td>\n",
              "      <td>Head-on</td>\n",
              "      <td>Yes</td>\n",
              "      <td>97</td>\n",
              "      <td>Icy</td>\n",
              "    </tr>\n",
              "    <tr>\n",
              "      <th>9</th>\n",
              "      <td>Minor injury</td>\n",
              "      <td>120</td>\n",
              "      <td>21</td>\n",
              "      <td>18</td>\n",
              "      <td>Female</td>\n",
              "      <td>Car</td>\n",
              "      <td>1</td>\n",
              "      <td>3.113678</td>\n",
              "      <td>Urban</td>\n",
              "      <td>No</td>\n",
              "      <td>Rear-end</td>\n",
              "      <td>No</td>\n",
              "      <td>100</td>\n",
              "      <td>Dry</td>\n",
              "    </tr>\n",
              "  </tbody>\n",
              "</table>\n",
              "</div>\n",
              "    <div class=\"colab-df-buttons\">\n",
              "\n",
              "  <div class=\"colab-df-container\">\n",
              "    <button class=\"colab-df-convert\" onclick=\"convertToInteractive('df-28dffdcb-9f77-4189-9fd9-fa49fa3f2f0c')\"\n",
              "            title=\"Convert this dataframe to an interactive table.\"\n",
              "            style=\"display:none;\">\n",
              "\n",
              "  <svg xmlns=\"http://www.w3.org/2000/svg\" height=\"24px\" viewBox=\"0 -960 960 960\">\n",
              "    <path d=\"M120-120v-720h720v720H120Zm60-500h600v-160H180v160Zm220 220h160v-160H400v160Zm0 220h160v-160H400v160ZM180-400h160v-160H180v160Zm440 0h160v-160H620v160ZM180-180h160v-160H180v160Zm440 0h160v-160H620v160Z\"/>\n",
              "  </svg>\n",
              "    </button>\n",
              "\n",
              "  <style>\n",
              "    .colab-df-container {\n",
              "      display:flex;\n",
              "      gap: 12px;\n",
              "    }\n",
              "\n",
              "    .colab-df-convert {\n",
              "      background-color: #E8F0FE;\n",
              "      border: none;\n",
              "      border-radius: 50%;\n",
              "      cursor: pointer;\n",
              "      display: none;\n",
              "      fill: #1967D2;\n",
              "      height: 32px;\n",
              "      padding: 0 0 0 0;\n",
              "      width: 32px;\n",
              "    }\n",
              "\n",
              "    .colab-df-convert:hover {\n",
              "      background-color: #E2EBFA;\n",
              "      box-shadow: 0px 1px 2px rgba(60, 64, 67, 0.3), 0px 1px 3px 1px rgba(60, 64, 67, 0.15);\n",
              "      fill: #174EA6;\n",
              "    }\n",
              "\n",
              "    .colab-df-buttons div {\n",
              "      margin-bottom: 4px;\n",
              "    }\n",
              "\n",
              "    [theme=dark] .colab-df-convert {\n",
              "      background-color: #3B4455;\n",
              "      fill: #D2E3FC;\n",
              "    }\n",
              "\n",
              "    [theme=dark] .colab-df-convert:hover {\n",
              "      background-color: #434B5C;\n",
              "      box-shadow: 0px 1px 3px 1px rgba(0, 0, 0, 0.15);\n",
              "      filter: drop-shadow(0px 1px 2px rgba(0, 0, 0, 0.3));\n",
              "      fill: #FFFFFF;\n",
              "    }\n",
              "  </style>\n",
              "\n",
              "    <script>\n",
              "      const buttonEl =\n",
              "        document.querySelector('#df-28dffdcb-9f77-4189-9fd9-fa49fa3f2f0c button.colab-df-convert');\n",
              "      buttonEl.style.display =\n",
              "        google.colab.kernel.accessAllowed ? 'block' : 'none';\n",
              "\n",
              "      async function convertToInteractive(key) {\n",
              "        const element = document.querySelector('#df-28dffdcb-9f77-4189-9fd9-fa49fa3f2f0c');\n",
              "        const dataTable =\n",
              "          await google.colab.kernel.invokeFunction('convertToInteractive',\n",
              "                                                    [key], {});\n",
              "        if (!dataTable) return;\n",
              "\n",
              "        const docLinkHtml = 'Like what you see? Visit the ' +\n",
              "          '<a target=\"_blank\" href=https://colab.research.google.com/notebooks/data_table.ipynb>data table notebook</a>'\n",
              "          + ' to learn more about interactive tables.';\n",
              "        element.innerHTML = '';\n",
              "        dataTable['output_type'] = 'display_data';\n",
              "        await google.colab.output.renderOutput(dataTable, element);\n",
              "        const docLink = document.createElement('div');\n",
              "        docLink.innerHTML = docLinkHtml;\n",
              "        element.appendChild(docLink);\n",
              "      }\n",
              "    </script>\n",
              "  </div>\n",
              "\n",
              "\n",
              "<div id=\"df-57e900b4-a107-459c-be44-ef240651bf6f\">\n",
              "  <button class=\"colab-df-quickchart\" onclick=\"quickchart('df-57e900b4-a107-459c-be44-ef240651bf6f')\"\n",
              "            title=\"Suggest charts\"\n",
              "            style=\"display:none;\">\n",
              "\n",
              "<svg xmlns=\"http://www.w3.org/2000/svg\" height=\"24px\"viewBox=\"0 0 24 24\"\n",
              "     width=\"24px\">\n",
              "    <g>\n",
              "        <path d=\"M19 3H5c-1.1 0-2 .9-2 2v14c0 1.1.9 2 2 2h14c1.1 0 2-.9 2-2V5c0-1.1-.9-2-2-2zM9 17H7v-7h2v7zm4 0h-2V7h2v10zm4 0h-2v-4h2v4z\"/>\n",
              "    </g>\n",
              "</svg>\n",
              "  </button>\n",
              "\n",
              "<style>\n",
              "  .colab-df-quickchart {\n",
              "      --bg-color: #E8F0FE;\n",
              "      --fill-color: #1967D2;\n",
              "      --hover-bg-color: #E2EBFA;\n",
              "      --hover-fill-color: #174EA6;\n",
              "      --disabled-fill-color: #AAA;\n",
              "      --disabled-bg-color: #DDD;\n",
              "  }\n",
              "\n",
              "  [theme=dark] .colab-df-quickchart {\n",
              "      --bg-color: #3B4455;\n",
              "      --fill-color: #D2E3FC;\n",
              "      --hover-bg-color: #434B5C;\n",
              "      --hover-fill-color: #FFFFFF;\n",
              "      --disabled-bg-color: #3B4455;\n",
              "      --disabled-fill-color: #666;\n",
              "  }\n",
              "\n",
              "  .colab-df-quickchart {\n",
              "    background-color: var(--bg-color);\n",
              "    border: none;\n",
              "    border-radius: 50%;\n",
              "    cursor: pointer;\n",
              "    display: none;\n",
              "    fill: var(--fill-color);\n",
              "    height: 32px;\n",
              "    padding: 0;\n",
              "    width: 32px;\n",
              "  }\n",
              "\n",
              "  .colab-df-quickchart:hover {\n",
              "    background-color: var(--hover-bg-color);\n",
              "    box-shadow: 0 1px 2px rgba(60, 64, 67, 0.3), 0 1px 3px 1px rgba(60, 64, 67, 0.15);\n",
              "    fill: var(--button-hover-fill-color);\n",
              "  }\n",
              "\n",
              "  .colab-df-quickchart-complete:disabled,\n",
              "  .colab-df-quickchart-complete:disabled:hover {\n",
              "    background-color: var(--disabled-bg-color);\n",
              "    fill: var(--disabled-fill-color);\n",
              "    box-shadow: none;\n",
              "  }\n",
              "\n",
              "  .colab-df-spinner {\n",
              "    border: 2px solid var(--fill-color);\n",
              "    border-color: transparent;\n",
              "    border-bottom-color: var(--fill-color);\n",
              "    animation:\n",
              "      spin 1s steps(1) infinite;\n",
              "  }\n",
              "\n",
              "  @keyframes spin {\n",
              "    0% {\n",
              "      border-color: transparent;\n",
              "      border-bottom-color: var(--fill-color);\n",
              "      border-left-color: var(--fill-color);\n",
              "    }\n",
              "    20% {\n",
              "      border-color: transparent;\n",
              "      border-left-color: var(--fill-color);\n",
              "      border-top-color: var(--fill-color);\n",
              "    }\n",
              "    30% {\n",
              "      border-color: transparent;\n",
              "      border-left-color: var(--fill-color);\n",
              "      border-top-color: var(--fill-color);\n",
              "      border-right-color: var(--fill-color);\n",
              "    }\n",
              "    40% {\n",
              "      border-color: transparent;\n",
              "      border-right-color: var(--fill-color);\n",
              "      border-top-color: var(--fill-color);\n",
              "    }\n",
              "    60% {\n",
              "      border-color: transparent;\n",
              "      border-right-color: var(--fill-color);\n",
              "    }\n",
              "    80% {\n",
              "      border-color: transparent;\n",
              "      border-right-color: var(--fill-color);\n",
              "      border-bottom-color: var(--fill-color);\n",
              "    }\n",
              "    90% {\n",
              "      border-color: transparent;\n",
              "      border-bottom-color: var(--fill-color);\n",
              "    }\n",
              "  }\n",
              "</style>\n",
              "\n",
              "  <script>\n",
              "    async function quickchart(key) {\n",
              "      const quickchartButtonEl =\n",
              "        document.querySelector('#' + key + ' button');\n",
              "      quickchartButtonEl.disabled = true;  // To prevent multiple clicks.\n",
              "      quickchartButtonEl.classList.add('colab-df-spinner');\n",
              "      try {\n",
              "        const charts = await google.colab.kernel.invokeFunction(\n",
              "            'suggestCharts', [key], {});\n",
              "      } catch (error) {\n",
              "        console.error('Error during call to suggestCharts:', error);\n",
              "      }\n",
              "      quickchartButtonEl.classList.remove('colab-df-spinner');\n",
              "      quickchartButtonEl.classList.add('colab-df-quickchart-complete');\n",
              "    }\n",
              "    (() => {\n",
              "      let quickchartButtonEl =\n",
              "        document.querySelector('#df-57e900b4-a107-459c-be44-ef240651bf6f button');\n",
              "      quickchartButtonEl.style.display =\n",
              "        google.colab.kernel.accessAllowed ? 'block' : 'none';\n",
              "    })();\n",
              "  </script>\n",
              "</div>\n",
              "\n",
              "    </div>\n",
              "  </div>\n"
            ],
            "application/vnd.google.colaboratory.intrinsic+json": {
              "type": "dataframe",
              "variable_name": "data",
              "summary": "{\n  \"name\": \"data\",\n  \"rows\": 300,\n  \"fields\": [\n    {\n      \"column\": \"Crash_Severity\",\n      \"properties\": {\n        \"dtype\": \"category\",\n        \"num_unique_values\": 3,\n        \"samples\": [\n          \"Minor injury\",\n          \"Major injury\",\n          \"Fatal crash\"\n        ],\n        \"semantic_type\": \"\",\n        \"description\": \"\"\n      }\n    },\n    {\n      \"column\": \"Vehicle_Speed\",\n      \"properties\": {\n        \"dtype\": \"number\",\n        \"std\": 31,\n        \"min\": 10,\n        \"max\": 120,\n        \"num_unique_values\": 105,\n        \"samples\": [\n          90,\n          116,\n          34\n        ],\n        \"semantic_type\": \"\",\n        \"description\": \"\"\n      }\n    },\n    {\n      \"column\": \"Crash_Time\",\n      \"properties\": {\n        \"dtype\": \"number\",\n        \"std\": 6,\n        \"min\": 0,\n        \"max\": 23,\n        \"num_unique_values\": 24,\n        \"samples\": [\n          21,\n          23,\n          11\n        ],\n        \"semantic_type\": \"\",\n        \"description\": \"\"\n      }\n    },\n    {\n      \"column\": \"Age\",\n      \"properties\": {\n        \"dtype\": \"number\",\n        \"std\": 18,\n        \"min\": 18,\n        \"max\": 80,\n        \"num_unique_values\": 62,\n        \"samples\": [\n          66,\n          51,\n          27\n        ],\n        \"semantic_type\": \"\",\n        \"description\": \"\"\n      }\n    },\n    {\n      \"column\": \"Gender\",\n      \"properties\": {\n        \"dtype\": \"category\",\n        \"num_unique_values\": 2,\n        \"samples\": [\n          \"Female\",\n          \"Male\"\n        ],\n        \"semantic_type\": \"\",\n        \"description\": \"\"\n      }\n    },\n    {\n      \"column\": \"Vehicle_Type\",\n      \"properties\": {\n        \"dtype\": \"category\",\n        \"num_unique_values\": 3,\n        \"samples\": [\n          \"Heavy Vehicle\",\n          \"Car\"\n        ],\n        \"semantic_type\": \"\",\n        \"description\": \"\"\n      }\n    },\n    {\n      \"column\": \"Number_of_Lanes\",\n      \"properties\": {\n        \"dtype\": \"number\",\n        \"std\": 0,\n        \"min\": 1,\n        \"max\": 3,\n        \"num_unique_values\": 3,\n        \"samples\": [\n          2,\n          3\n        ],\n        \"semantic_type\": \"\",\n        \"description\": \"\"\n      }\n    },\n    {\n      \"column\": \"Lane_Width\",\n      \"properties\": {\n        \"dtype\": \"number\",\n        \"std\": 0.14305275609361234,\n        \"min\": 3.001781,\n        \"max\": 3.497986,\n        \"num_unique_values\": 300,\n        \"samples\": [\n          3.310063,\n          3.486818\n        ],\n        \"semantic_type\": \"\",\n        \"description\": \"\"\n      }\n    },\n    {\n      \"column\": \"Road_Type\",\n      \"properties\": {\n        \"dtype\": \"category\",\n        \"num_unique_values\": 2,\n        \"samples\": [\n          \"Rural\",\n          \"Urban\"\n        ],\n        \"semantic_type\": \"\",\n        \"description\": \"\"\n      }\n    },\n    {\n      \"column\": \"Alcohol_Consumption\",\n      \"properties\": {\n        \"dtype\": \"category\",\n        \"num_unique_values\": 2,\n        \"samples\": [\n          \"No\",\n          \"Yes\"\n        ],\n        \"semantic_type\": \"\",\n        \"description\": \"\"\n      }\n    },\n    {\n      \"column\": \"Crash_Type\",\n      \"properties\": {\n        \"dtype\": \"category\",\n        \"num_unique_values\": 2,\n        \"samples\": [\n          \"Head-on\",\n          \"Rear-end\"\n        ],\n        \"semantic_type\": \"\",\n        \"description\": \"\"\n      }\n    },\n    {\n      \"column\": \"Seatbelt_Usage\",\n      \"properties\": {\n        \"dtype\": \"category\",\n        \"num_unique_values\": 2,\n        \"samples\": [\n          \"Yes\",\n          \"No\"\n        ],\n        \"semantic_type\": \"\",\n        \"description\": \"\"\n      }\n    },\n    {\n      \"column\": \"Speed_Limit\",\n      \"properties\": {\n        \"dtype\": \"number\",\n        \"std\": 26,\n        \"min\": 30,\n        \"max\": 120,\n        \"num_unique_values\": 85,\n        \"samples\": [\n          52,\n          30\n        ],\n        \"semantic_type\": \"\",\n        \"description\": \"\"\n      }\n    },\n    {\n      \"column\": \"Road_Surface_Condition\",\n      \"properties\": {\n        \"dtype\": \"category\",\n        \"num_unique_values\": 3,\n        \"samples\": [\n          \"Icy\",\n          \"Dry\"\n        ],\n        \"semantic_type\": \"\",\n        \"description\": \"\"\n      }\n    }\n  ]\n}"
            }
          },
          "metadata": {},
          "execution_count": 15
        }
      ]
    },
    {
      "cell_type": "code",
      "source": [
        "print(data.columns)\n",
        "print(data.dtypes)\n",
        "datay=data[\"Crash_Severity\"]\n",
        "data=data.drop(\"Crash_Severity\",axis=1)"
      ],
      "metadata": {
        "colab": {
          "base_uri": "https://localhost:8080/"
        },
        "id": "v7mx6ADoba30",
        "outputId": "c385b2c2-5e74-443d-d120-57469079cf5b"
      },
      "execution_count": null,
      "outputs": [
        {
          "output_type": "stream",
          "name": "stdout",
          "text": [
            "Index(['Crash_Severity', 'Vehicle_Speed', 'Crash_Time', 'Age', 'Gender',\n",
            "       'Vehicle_Type', 'Number_of_Lanes', 'Lane_Width', 'Road_Type',\n",
            "       'Alcohol_Consumption', 'Crash_Type', 'Seatbelt_Usage', 'Speed_Limit',\n",
            "       'Road_Surface_Condition'],\n",
            "      dtype='object')\n",
            "Crash_Severity             object\n",
            "Vehicle_Speed               int64\n",
            "Crash_Time                  int64\n",
            "Age                         int64\n",
            "Gender                     object\n",
            "Vehicle_Type               object\n",
            "Number_of_Lanes             int64\n",
            "Lane_Width                float64\n",
            "Road_Type                  object\n",
            "Alcohol_Consumption        object\n",
            "Crash_Type                 object\n",
            "Seatbelt_Usage             object\n",
            "Speed_Limit                 int64\n",
            "Road_Surface_Condition     object\n",
            "dtype: object\n"
          ]
        }
      ]
    },
    {
      "cell_type": "code",
      "source": [
        "hottie = LabelEncoder()\n",
        "encoding_data=data.select_dtypes(include=\"object\").columns.to_list()\n",
        "\n",
        "\n",
        "print(len(encoding_data))\n",
        "\n",
        "\n",
        "#label encoding for numerical convertion\n",
        "for i in encoding_data:\n",
        "  data[i]=hottie.fit_transform(data[i])\n",
        "\n",
        "\n",
        "data.info()"
      ],
      "metadata": {
        "colab": {
          "base_uri": "https://localhost:8080/"
        },
        "id": "Z1xke3r8bvnh",
        "outputId": "6332b812-f0ab-4bb9-bbc9-8a6aebb53b96"
      },
      "execution_count": null,
      "outputs": [
        {
          "output_type": "stream",
          "name": "stdout",
          "text": [
            "7\n",
            "<class 'pandas.core.frame.DataFrame'>\n",
            "RangeIndex: 300 entries, 0 to 299\n",
            "Data columns (total 13 columns):\n",
            " #   Column                  Non-Null Count  Dtype  \n",
            "---  ------                  --------------  -----  \n",
            " 0   Vehicle_Speed           300 non-null    int64  \n",
            " 1   Crash_Time              300 non-null    int64  \n",
            " 2   Age                     300 non-null    int64  \n",
            " 3   Gender                  300 non-null    int64  \n",
            " 4   Vehicle_Type            300 non-null    int64  \n",
            " 5   Number_of_Lanes         300 non-null    int64  \n",
            " 6   Lane_Width              300 non-null    float64\n",
            " 7   Road_Type               300 non-null    int64  \n",
            " 8   Alcohol_Consumption     300 non-null    int64  \n",
            " 9   Crash_Type              300 non-null    int64  \n",
            " 10  Seatbelt_Usage          300 non-null    int64  \n",
            " 11  Speed_Limit             300 non-null    int64  \n",
            " 12  Road_Surface_Condition  300 non-null    int64  \n",
            "dtypes: float64(1), int64(12)\n",
            "memory usage: 30.6 KB\n"
          ]
        }
      ]
    },
    {
      "cell_type": "code",
      "source": [
        "x_train,x_test,y_train,y_test=train_test_split(data,datay)\n",
        "y_train.head()"
      ],
      "metadata": {
        "id": "pzBSxKkmaZkc",
        "colab": {
          "base_uri": "https://localhost:8080/",
          "height": 241
        },
        "collapsed": true,
        "outputId": "c1603c46-bf75-4af1-83bf-b9b019f5591f"
      },
      "execution_count": null,
      "outputs": [
        {
          "output_type": "execute_result",
          "data": {
            "text/plain": [
              "186    Major injury\n",
              "125    Major injury\n",
              "71     Minor injury\n",
              "74     Minor injury\n",
              "206     Fatal crash\n",
              "Name: Crash_Severity, dtype: object"
            ],
            "text/html": [
              "<div>\n",
              "<style scoped>\n",
              "    .dataframe tbody tr th:only-of-type {\n",
              "        vertical-align: middle;\n",
              "    }\n",
              "\n",
              "    .dataframe tbody tr th {\n",
              "        vertical-align: top;\n",
              "    }\n",
              "\n",
              "    .dataframe thead th {\n",
              "        text-align: right;\n",
              "    }\n",
              "</style>\n",
              "<table border=\"1\" class=\"dataframe\">\n",
              "  <thead>\n",
              "    <tr style=\"text-align: right;\">\n",
              "      <th></th>\n",
              "      <th>Crash_Severity</th>\n",
              "    </tr>\n",
              "  </thead>\n",
              "  <tbody>\n",
              "    <tr>\n",
              "      <th>186</th>\n",
              "      <td>Major injury</td>\n",
              "    </tr>\n",
              "    <tr>\n",
              "      <th>125</th>\n",
              "      <td>Major injury</td>\n",
              "    </tr>\n",
              "    <tr>\n",
              "      <th>71</th>\n",
              "      <td>Minor injury</td>\n",
              "    </tr>\n",
              "    <tr>\n",
              "      <th>74</th>\n",
              "      <td>Minor injury</td>\n",
              "    </tr>\n",
              "    <tr>\n",
              "      <th>206</th>\n",
              "      <td>Fatal crash</td>\n",
              "    </tr>\n",
              "  </tbody>\n",
              "</table>\n",
              "</div><br><label><b>dtype:</b> object</label>"
            ]
          },
          "metadata": {},
          "execution_count": 18
        }
      ]
    },
    {
      "cell_type": "code",
      "source": [
        "# Correct the column name and use the correct attribute to get unique values\n",
        "datay.value_counts()"
      ],
      "metadata": {
        "colab": {
          "base_uri": "https://localhost:8080/",
          "height": 210
        },
        "id": "kvGdU-DZg33U",
        "outputId": "ea43688e-763e-49af-f577-c33a1d92d320"
      },
      "execution_count": null,
      "outputs": [
        {
          "output_type": "execute_result",
          "data": {
            "text/plain": [
              "Crash_Severity\n",
              "Minor injury    100\n",
              "Major injury    100\n",
              "Fatal crash     100\n",
              "Name: count, dtype: int64"
            ],
            "text/html": [
              "<div>\n",
              "<style scoped>\n",
              "    .dataframe tbody tr th:only-of-type {\n",
              "        vertical-align: middle;\n",
              "    }\n",
              "\n",
              "    .dataframe tbody tr th {\n",
              "        vertical-align: top;\n",
              "    }\n",
              "\n",
              "    .dataframe thead th {\n",
              "        text-align: right;\n",
              "    }\n",
              "</style>\n",
              "<table border=\"1\" class=\"dataframe\">\n",
              "  <thead>\n",
              "    <tr style=\"text-align: right;\">\n",
              "      <th></th>\n",
              "      <th>count</th>\n",
              "    </tr>\n",
              "    <tr>\n",
              "      <th>Crash_Severity</th>\n",
              "      <th></th>\n",
              "    </tr>\n",
              "  </thead>\n",
              "  <tbody>\n",
              "    <tr>\n",
              "      <th>Minor injury</th>\n",
              "      <td>100</td>\n",
              "    </tr>\n",
              "    <tr>\n",
              "      <th>Major injury</th>\n",
              "      <td>100</td>\n",
              "    </tr>\n",
              "    <tr>\n",
              "      <th>Fatal crash</th>\n",
              "      <td>100</td>\n",
              "    </tr>\n",
              "  </tbody>\n",
              "</table>\n",
              "</div><br><label><b>dtype:</b> int64</label>"
            ]
          },
          "metadata": {},
          "execution_count": 19
        }
      ]
    },
    {
      "cell_type": "code",
      "source": [
        "print(x_train.shape)\n",
        "print(x_test.shape)\n",
        "print(y_train.shape)\n",
        "print(y_test.shape)"
      ],
      "metadata": {
        "colab": {
          "base_uri": "https://localhost:8080/"
        },
        "id": "ccNdtMmDbE5m",
        "outputId": "08d9f79c-4094-4521-b3c6-aca75319a965"
      },
      "execution_count": null,
      "outputs": [
        {
          "output_type": "stream",
          "name": "stdout",
          "text": [
            "(225, 13)\n",
            "(75, 13)\n",
            "(225,)\n",
            "(75,)\n"
          ]
        }
      ]
    },
    {
      "cell_type": "code",
      "source": [
        "scale=StandardScaler()\n",
        "\n",
        "x_train=scale.fit_transform(x_train)\n",
        "x_test=scale.fit_transform(x_test)"
      ],
      "metadata": {
        "id": "1am9kvMhkV4H"
      },
      "execution_count": null,
      "outputs": []
    },
    {
      "cell_type": "code",
      "source": [
        "x_train=np.reshape(x_train,(x_train.shape[0],x_train.shape[1],1))\n",
        "x_test=np.reshape(x_test,(x_test.shape[0],x_test.shape[1],1))"
      ],
      "metadata": {
        "id": "B0pKPlNbnKUE"
      },
      "execution_count": null,
      "outputs": []
    },
    {
      "cell_type": "code",
      "source": [
        "print(x_train.shape)\n",
        "print(x_test.shape)\n",
        "print(y_train.shape)\n",
        "print(y_test.shape)"
      ],
      "metadata": {
        "colab": {
          "base_uri": "https://localhost:8080/"
        },
        "id": "sDNbozUbqdUe",
        "outputId": "d59d6e5b-4cb2-4402-c592-1143f5401131"
      },
      "execution_count": null,
      "outputs": [
        {
          "output_type": "stream",
          "name": "stdout",
          "text": [
            "(225, 13, 1)\n",
            "(75, 13, 1)\n",
            "(225,)\n",
            "(75,)\n"
          ]
        }
      ]
    },
    {
      "cell_type": "code",
      "source": [
        "from sklearn.preprocessing import OneHotEncoder\n",
        "hot_mama=OneHotEncoder()\n",
        "y_train=hot_mama.fit_transform(np.array(y_train).reshape(-1,1)).toarray()\n",
        "y_test=hot_mama.fit_transform(np.array(y_test).reshape(-1,1)).toarray()\n",
        "\n",
        "'''from sklearn.preprocessing import LabelEncoder\n",
        "from tensorflow.keras.utils import to_categorical\n",
        "\n",
        "encoder=LabelEncoder()\n",
        "y_train=encoder.fit_transform(y_train)\n",
        "y_test=encoder.fit_transform(y_test)\n",
        "\n",
        "y_train=to_categorical(y_train)\n",
        "y_test=to_categorical(y_test)'''"
      ],
      "metadata": {
        "id": "u7gwd4Q5upK1",
        "colab": {
          "base_uri": "https://localhost:8080/",
          "height": 70
        },
        "outputId": "6409634e-2157-4ad0-c605-c4b667906ffc"
      },
      "execution_count": null,
      "outputs": [
        {
          "output_type": "execute_result",
          "data": {
            "text/plain": [
              "'from sklearn.preprocessing import LabelEncoder\\nfrom tensorflow.keras.utils import to_categorical\\n\\nencoder=LabelEncoder()\\ny_train=encoder.fit_transform(y_train)\\ny_test=encoder.fit_transform(y_test)\\n\\ny_train=to_categorical(y_train)\\ny_test=to_categorical(y_test)'"
            ],
            "application/vnd.google.colaboratory.intrinsic+json": {
              "type": "string"
            }
          },
          "metadata": {},
          "execution_count": 24
        }
      ]
    },
    {
      "cell_type": "code",
      "source": [
        "def normie():\n",
        "    model = Sequential([\n",
        "        Dense(128, activation='relu', input_shape=(x_train.shape[1],)),\n",
        "        BatchNormalization(),\n",
        "        Dropout(0.3),\n",
        "        Dense(64, activation='relu'),\n",
        "        BatchNormalization(),\n",
        "        Dropout(0.3),\n",
        "        Dense(32, activation='relu'),\n",
        "        Dense(len(datay.unique()), activation='softmax') # Output layer with softmax for multi-class classification\n",
        "    ])"
      ],
      "metadata": {
        "colab": {
          "base_uri": "https://localhost:8080/",
          "height": 87
        },
        "id": "WEMa7bhmikq4",
        "outputId": "7f996e65-3460-4697-cffd-b9fc7612285c"
      },
      "execution_count": null,
      "outputs": [
        {
          "output_type": "execute_result",
          "data": {
            "text/plain": [
              "\"model = keras.Sequential([\\n    layers.Dense(128, activation='relu', input_shape=(x_train.shape[1],)),\\n    layers.BatchNormalization(),\\n    layers.Dropout(0.3),\\n    layers.Dense(64, activation='relu'),\\n    layers.BatchNormalization(),\\n    layers.Dropout(0.3),\\n    layers.Dense(32, activation='relu'),\\n    layers.Dense(len(datay.unique()), activation='softmax') # Output layer with softmax for multi-class classification\\n])\""
            ],
            "application/vnd.google.colaboratory.intrinsic+json": {
              "type": "string"
            }
          },
          "metadata": {},
          "execution_count": 460
        }
      ]
    },
    {
      "cell_type": "code",
      "source": [
        "def cnn_model():\n",
        "    model = Sequential(\n",
        "        [\n",
        "            Conv2D(128, kernel_size=(3, 3), activation=\"relu\", input_shape=(x_train.shape[1],1,1), padding=\"same\"),\n",
        "            BatchNormalization(),\n",
        "            Conv2D(64, kernel_size=(3, 3), activation=\"relu\", padding=\"same\"),\n",
        "            BatchNormalization(),\n",
        "            Flatten(),\n",
        "            Dense(64, activation=\"relu\"),\n",
        "            Dense(32, activation=\"relu\"),\n",
        "            Dense(3, activation=\"softmax\"),\n",
        "        ]\n",
        "    )\n",
        "    return model"
      ],
      "metadata": {
        "id": "XkF6SUfbj2-P"
      },
      "execution_count": null,
      "outputs": []
    },
    {
      "cell_type": "code",
      "source": [
        "def gru_model():\n",
        "  model = Sequential([\n",
        "      GRU(128, activation=\"relu\", input_shape=(10, 1), return_sequences=True),\n",
        "      GRU(64, activation=\"relu\", return_sequences=True),\n",
        "      BatchNormalization(),\n",
        "      GRU(32, activation=\"relu\", return_sequences=False),\n",
        "      BatchNormalization(),\n",
        "      Dense(16, activation=\"relu\"),\n",
        "      Dense(3, activation=\"softmax\")\n",
        "  ])"
      ],
      "metadata": {
        "colab": {
          "base_uri": "https://localhost:8080/"
        },
        "id": "VnjBr4xXl0zd",
        "outputId": "887ed6ec-e6e4-4f75-f96c-f558f71167ff"
      },
      "execution_count": null,
      "outputs": [
        {
          "output_type": "stream",
          "name": "stderr",
          "text": [
            "/usr/local/lib/python3.10/dist-packages/keras/src/layers/rnn/rnn.py:204: UserWarning: Do not pass an `input_shape`/`input_dim` argument to a layer. When using Sequential models, prefer using an `Input(shape)` object as the first layer in the model instead.\n",
            "  super().__init__(**kwargs)\n"
          ]
        }
      ]
    },
    {
      "cell_type": "code",
      "source": [
        "def model_lstm():\n",
        "    model = Sequential([\n",
        "        LSTM(128, activation=\"relu\", input_shape=(10, 1), return_sequences=True),\n",
        "        LSTM(64, activation=\"relu\", return_sequences=True),\n",
        "        BatchNormalization(),\n",
        "        LSTM(32, activation=\"relu\", return_sequences=False),\n",
        "        BatchNormalization(),\n",
        "        Dense(16, activation=\"relu\"),\n",
        "        Dense(3, activation=\"softmax\")\n",
        "    ])\n",
        "\n",
        "    return model"
      ],
      "metadata": {
        "colab": {
          "base_uri": "https://localhost:8080/"
        },
        "id": "Lc5E1PNm2gLR",
        "outputId": "84765503-ad9e-4d5d-a8f0-87047e943929"
      },
      "execution_count": null,
      "outputs": [
        {
          "output_type": "stream",
          "name": "stderr",
          "text": [
            "/usr/local/lib/python3.10/dist-packages/keras/src/layers/rnn/rnn.py:204: UserWarning: Do not pass an `input_shape`/`input_dim` argument to a layer. When using Sequential models, prefer using an `Input(shape)` object as the first layer in the model instead.\n",
            "  super().__init__(**kwargs)\n"
          ]
        }
      ]
    },
    {
      "cell_type": "code",
      "source": [
        "def model_bi():\n",
        "      model = Sequential()\n",
        "\n",
        "      # First BiLSTM layer (return_sequences=True for stacking multiple layers)\n",
        "      model.add(Bidirectional(LSTM(64, return_sequences=True), input_shape=(10, 1)))\n",
        "      model.add(Dropout(0.3))\n",
        "\n",
        "      # Second BiLSTM layer (return_sequences=True to pass the sequence to the next layer)\n",
        "      model.add(Bidirectional(LSTM(64, return_sequences=True)))\n",
        "      model.add(Dropout(0.3))\n",
        "\n",
        "      # Final BiLSTM layer (return_sequences=False to output final sequence representation)\n",
        "      model.add(Bidirectional(LSTM(64, return_sequences=False)))\n",
        "      model.add(Dropout(0.3))\n",
        "\n",
        "      model.add(Dense(64, activation=\"relu\"))\n",
        "\n",
        "      model.add(Dense(3, activation=\"softmax\"))\n",
        "      return model\n"
      ],
      "metadata": {
        "id": "_5sN1t-ivMTn"
      },
      "execution_count": null,
      "outputs": []
    },
    {
      "cell_type": "code",
      "source": [
        "from keras.models import Sequential\n",
        "from keras.layers import Conv2D, BatchNormalization, Reshape, LSTM, Flatten, Dense\n",
        "\n",
        "def cnn_lstm():\n",
        "      model = Sequential(\n",
        "          [\n",
        "              Conv2D(128, kernel_size=(3, 3), activation=\"relu\", input_shape=(x_train.shape[1], 1, 1), padding=\"same\"),\n",
        "              BatchNormalization(),\n",
        "              Reshape((x_train.shape[1], 128)),  # Reshaping based on the correct dimensions\n",
        "              LSTM(128, activation=\"relu\", return_sequences=True),  # LSTM layers, ensure return_sequences=True if followed by another LSTM\n",
        "              BatchNormalization(),\n",
        "              LSTM(64, activation=\"relu\", return_sequences=True),  # Ensure return_sequences=True if followed by another LSTM\n",
        "              BatchNormalization(),\n",
        "              LSTM(32, activation=\"relu\"),\n",
        "              BatchNormalization(),\n",
        "              Flatten(),\n",
        "              Dense(16, activation=\"relu\"),\n",
        "              Dense(3)  # Output layer\n",
        "          ]\n",
        "      )\n",
        "      return model\n"
      ],
      "metadata": {
        "id": "L_o-gq6s27DG"
      },
      "execution_count": null,
      "outputs": []
    },
    {
      "cell_type": "code",
      "source": [
        "import torch\n",
        "import torch.nn as nn\n",
        "import torch.nn.functional as F\n",
        "import torch.optim as optim\n",
        "\n",
        "class neuralnetwork(nn.Module):\n",
        "  def __init__(self):\n",
        "    super(neuralnetwork,self).__init__()\n",
        "    self.model = nn.Sequential(\n",
        "        nn.Linear(100000,10000),\n",
        "        nn.ReLU(),\n",
        "        nn.Linear(10000,1)\n",
        "    )\n",
        "  def forward(self,x):\n",
        "    return self.model(x)\n",
        "\n",
        "model = neuralnetwork()\n",
        "optimizer = optim.Adam(model.parameters(),lr=0.001)\n",
        "loss_fn=nn.MSELoss()\n",
        "\n",
        "\n"
      ],
      "metadata": {
        "id": "lmIR0aYA8p2T"
      },
      "execution_count": null,
      "outputs": []
    },
    {
      "cell_type": "code",
      "source": [
        "import torch\n",
        "import torch.nn as nn\n",
        "import torch.optim as optim\n",
        "from torchvision import datasets, transforms\n",
        "from torch.utils.data import DataLoader\n",
        "\n",
        "# Define the neural network\n",
        "class NeuralNetwork(nn.Module):\n",
        "    def __init__(self):\n",
        "        super(NeuralNetwork, self).__init__()\n",
        "        self.model = nn.Sequential(\n",
        "            nn.Flatten(),  # Flatten the 28x28 input images to a vector of size 784\n",
        "            nn.Linear(28 * 28, 128),\n",
        "            nn.ReLU(),\n",
        "            nn.Linear(128, 10)  # Output layer for 10 classes\n",
        "        )\n",
        "\n",
        "    def forward(self, x):\n",
        "        return self.model(x)\n",
        "\n",
        "# Load MNIST dataset\n",
        "batch_size = 64\n",
        "transform = transforms.Compose([\n",
        "    transforms.ToTensor(),  # Convert images to tensors\n",
        "    transforms.Normalize((0.5,), (0.5,))  # Normalize images\n",
        "])\n",
        "\n",
        "train_dataset = datasets.MNIST(root=\"./data\", train=True, transform=transform, download=True)\n",
        "test_dataset = datasets.MNIST(root=\"./data\", train=False, transform=transform, download=True)\n",
        "\n",
        "train_loader = DataLoader(train_dataset, batch_size=batch_size, shuffle=True)\n",
        "test_loader = DataLoader(test_dataset, batch_size=batch_size, shuffle=False)\n",
        "\n",
        "# Initialize model, optimizer, and loss function\n",
        "model = NeuralNetwork()\n",
        "optimizer = optim.Adam(model.parameters(), lr=0.001)\n",
        "loss_fn = nn.CrossEntropyLoss()  # Suitable for classification tasks\n",
        "\n",
        "# Training loop\n",
        "epochs = 5\n",
        "for epoch in range(epochs):\n",
        "    model.train()  # Set model to training mode\n",
        "    running_loss = 0.0\n",
        "    for batch_idx, (batch_x, batch_y) in enumerate(train_loader):\n",
        "        optimizer.zero_grad()\n",
        "\n",
        "        # Forward pass\n",
        "        predictions = model(batch_x)\n",
        "\n",
        "        # Compute loss\n",
        "        loss = loss_fn(predictions, batch_y)\n",
        "\n",
        "        # Backward pass and update\n",
        "        loss.backward()\n",
        "        optimizer.step()\n",
        "\n",
        "        running_loss += loss.item()\n",
        "\n",
        "    print(f\"Epoch {epoch + 1}/{epochs}, Loss: {running_loss / len(train_loader):.4f}\")\n",
        "\n",
        "# Evaluation\n",
        "model.eval()  # Set model to evaluation mode\n",
        "correct = 0\n",
        "total = 0\n",
        "with torch.no_grad():\n",
        "    for batch_x, batch_y in test_loader:\n",
        "        outputs = model(batch_x)\n",
        "        _, predicted = torch.max(outputs, 1)  # Get class with highest probability\n",
        "        total += batch_y.size(0)l\n",
        "        correct += (predicted == batch_y).sum().item()\n",
        "\n",
        "print(f\"Test Accuracy: {100 * correct / total:.2f}%\")\n"
      ],
      "metadata": {
        "colab": {
          "base_uri": "https://localhost:8080/"
        },
        "id": "Gx7gWY6hn-fj",
        "outputId": "90396ed6-ed86-47d2-84de-0796f4b8269c"
      },
      "execution_count": null,
      "outputs": [
        {
          "output_type": "stream",
          "name": "stdout",
          "text": [
            "Downloading http://yann.lecun.com/exdb/mnist/train-images-idx3-ubyte.gz\n",
            "Failed to download (trying next):\n",
            "HTTP Error 403: Forbidden\n",
            "\n",
            "Downloading https://ossci-datasets.s3.amazonaws.com/mnist/train-images-idx3-ubyte.gz\n",
            "Downloading https://ossci-datasets.s3.amazonaws.com/mnist/train-images-idx3-ubyte.gz to ./data/MNIST/raw/train-images-idx3-ubyte.gz\n"
          ]
        },
        {
          "output_type": "stream",
          "name": "stderr",
          "text": [
            "100%|██████████| 9.91M/9.91M [00:02<00:00, 4.59MB/s]\n"
          ]
        },
        {
          "output_type": "stream",
          "name": "stdout",
          "text": [
            "Extracting ./data/MNIST/raw/train-images-idx3-ubyte.gz to ./data/MNIST/raw\n",
            "\n",
            "Downloading http://yann.lecun.com/exdb/mnist/train-labels-idx1-ubyte.gz\n",
            "Failed to download (trying next):\n",
            "HTTP Error 403: Forbidden\n",
            "\n",
            "Downloading https://ossci-datasets.s3.amazonaws.com/mnist/train-labels-idx1-ubyte.gz\n",
            "Downloading https://ossci-datasets.s3.amazonaws.com/mnist/train-labels-idx1-ubyte.gz to ./data/MNIST/raw/train-labels-idx1-ubyte.gz\n"
          ]
        },
        {
          "output_type": "stream",
          "name": "stderr",
          "text": [
            "100%|██████████| 28.9k/28.9k [00:00<00:00, 134kB/s]\n"
          ]
        },
        {
          "output_type": "stream",
          "name": "stdout",
          "text": [
            "Extracting ./data/MNIST/raw/train-labels-idx1-ubyte.gz to ./data/MNIST/raw\n",
            "\n",
            "Downloading http://yann.lecun.com/exdb/mnist/t10k-images-idx3-ubyte.gz\n",
            "Failed to download (trying next):\n",
            "HTTP Error 403: Forbidden\n",
            "\n",
            "Downloading https://ossci-datasets.s3.amazonaws.com/mnist/t10k-images-idx3-ubyte.gz\n",
            "Downloading https://ossci-datasets.s3.amazonaws.com/mnist/t10k-images-idx3-ubyte.gz to ./data/MNIST/raw/t10k-images-idx3-ubyte.gz\n"
          ]
        },
        {
          "output_type": "stream",
          "name": "stderr",
          "text": [
            "100%|██████████| 1.65M/1.65M [00:01<00:00, 1.27MB/s]\n"
          ]
        },
        {
          "output_type": "stream",
          "name": "stdout",
          "text": [
            "Extracting ./data/MNIST/raw/t10k-images-idx3-ubyte.gz to ./data/MNIST/raw\n",
            "\n",
            "Downloading http://yann.lecun.com/exdb/mnist/t10k-labels-idx1-ubyte.gz\n",
            "Failed to download (trying next):\n",
            "HTTP Error 403: Forbidden\n",
            "\n",
            "Downloading https://ossci-datasets.s3.amazonaws.com/mnist/t10k-labels-idx1-ubyte.gz\n",
            "Downloading https://ossci-datasets.s3.amazonaws.com/mnist/t10k-labels-idx1-ubyte.gz to ./data/MNIST/raw/t10k-labels-idx1-ubyte.gz\n"
          ]
        },
        {
          "output_type": "stream",
          "name": "stderr",
          "text": [
            "100%|██████████| 4.54k/4.54k [00:00<00:00, 11.9MB/s]\n"
          ]
        },
        {
          "output_type": "stream",
          "name": "stdout",
          "text": [
            "Extracting ./data/MNIST/raw/t10k-labels-idx1-ubyte.gz to ./data/MNIST/raw\n",
            "\n",
            "Epoch 1/5, Loss: 0.3750\n",
            "Epoch 2/5, Loss: 0.1914\n",
            "Epoch 3/5, Loss: 0.1425\n",
            "Epoch 4/5, Loss: 0.1146\n",
            "Epoch 5/5, Loss: 0.0970\n",
            "Test Accuracy: 96.98%\n"
          ]
        }
      ]
    },
    {
      "cell_type": "code",
      "source": [
        "model.compile(loss=\"categorical_crossentropy\",optimizer=\"adam\",metrics=[\"accuracy\"])"
      ],
      "metadata": {
        "id": "CpA1LUe9oeF8"
      },
      "execution_count": null,
      "outputs": []
    },
    {
      "cell_type": "code",
      "source": [
        "model.fit(x_train,y_train,epochs=20,validation_data=(x_test,y_test))"
      ],
      "metadata": {
        "colab": {
          "base_uri": "https://localhost:8080/"
        },
        "id": "XO1-woe3pxKD",
        "outputId": "a21bb82c-9c43-489e-c63b-7595bc292361"
      },
      "execution_count": null,
      "outputs": [
        {
          "output_type": "stream",
          "name": "stdout",
          "text": [
            "Epoch 1/20\n",
            "\u001b[1m8/8\u001b[0m \u001b[32m━━━━━━━━━━━━━━━━━━━━\u001b[0m\u001b[37m\u001b[0m \u001b[1m18s\u001b[0m 1s/step - accuracy: 0.3333 - loss: 6.3186 - val_accuracy: 0.2667 - val_loss: 6.0174\n",
            "Epoch 2/20\n",
            "\u001b[1m8/8\u001b[0m \u001b[32m━━━━━━━━━━━━━━━━━━━━\u001b[0m\u001b[37m\u001b[0m \u001b[1m8s\u001b[0m 16ms/step - accuracy: 0.3574 - loss: 5.4295 - val_accuracy: 0.2667 - val_loss: 6.0174\n",
            "Epoch 3/20\n",
            "\u001b[1m8/8\u001b[0m \u001b[32m━━━━━━━━━━━━━━━━━━━━\u001b[0m\u001b[37m\u001b[0m \u001b[1m0s\u001b[0m 15ms/step - accuracy: 0.3917 - loss: 4.9836 - val_accuracy: 0.2667 - val_loss: 6.0174\n",
            "Epoch 4/20\n",
            "\u001b[1m8/8\u001b[0m \u001b[32m━━━━━━━━━━━━━━━━━━━━\u001b[0m\u001b[37m\u001b[0m \u001b[1m0s\u001b[0m 15ms/step - accuracy: 0.4515 - loss: 5.7484 - val_accuracy: 0.2667 - val_loss: 6.0174\n",
            "Epoch 5/20\n",
            "\u001b[1m8/8\u001b[0m \u001b[32m━━━━━━━━━━━━━━━━━━━━\u001b[0m\u001b[37m\u001b[0m \u001b[1m0s\u001b[0m 15ms/step - accuracy: 0.3513 - loss: 4.4177 - val_accuracy: 0.2667 - val_loss: 6.0174\n",
            "Epoch 6/20\n",
            "\u001b[1m8/8\u001b[0m \u001b[32m━━━━━━━━━━━━━━━━━━━━\u001b[0m\u001b[37m\u001b[0m \u001b[1m0s\u001b[0m 14ms/step - accuracy: 0.3661 - loss: 4.9376 - val_accuracy: 0.2667 - val_loss: 6.0174\n",
            "Epoch 7/20\n",
            "\u001b[1m8/8\u001b[0m \u001b[32m━━━━━━━━━━━━━━━━━━━━\u001b[0m\u001b[37m\u001b[0m \u001b[1m0s\u001b[0m 15ms/step - accuracy: 0.4271 - loss: 5.9056 - val_accuracy: 0.2667 - val_loss: 6.0174\n",
            "Epoch 8/20\n",
            "\u001b[1m8/8\u001b[0m \u001b[32m━━━━━━━━━━━━━━━━━━━━\u001b[0m\u001b[37m\u001b[0m \u001b[1m0s\u001b[0m 15ms/step - accuracy: 0.3769 - loss: 5.0288 - val_accuracy: 0.2667 - val_loss: 6.0174\n",
            "Epoch 9/20\n",
            "\u001b[1m8/8\u001b[0m \u001b[32m━━━━━━━━━━━━━━━━━━━━\u001b[0m\u001b[37m\u001b[0m \u001b[1m0s\u001b[0m 16ms/step - accuracy: 0.3692 - loss: 5.1768 - val_accuracy: 0.2667 - val_loss: 6.0174\n",
            "Epoch 10/20\n",
            "\u001b[1m8/8\u001b[0m \u001b[32m━━━━━━━━━━━━━━━━━━━━\u001b[0m\u001b[37m\u001b[0m \u001b[1m0s\u001b[0m 15ms/step - accuracy: 0.3807 - loss: 4.9710 - val_accuracy: 0.2667 - val_loss: 6.0174\n",
            "Epoch 11/20\n",
            "\u001b[1m8/8\u001b[0m \u001b[32m━━━━━━━━━━━━━━━━━━━━\u001b[0m\u001b[37m\u001b[0m \u001b[1m0s\u001b[0m 15ms/step - accuracy: 0.4423 - loss: 4.6516 - val_accuracy: 0.2533 - val_loss: 6.0174\n",
            "Epoch 12/20\n",
            "\u001b[1m8/8\u001b[0m \u001b[32m━━━━━━━━━━━━━━━━━━━━\u001b[0m\u001b[37m\u001b[0m \u001b[1m0s\u001b[0m 15ms/step - accuracy: 0.3585 - loss: 4.9837 - val_accuracy: 0.2800 - val_loss: 6.0174\n",
            "Epoch 13/20\n",
            "\u001b[1m8/8\u001b[0m \u001b[32m━━━━━━━━━━━━━━━━━━━━\u001b[0m\u001b[37m\u001b[0m \u001b[1m0s\u001b[0m 15ms/step - accuracy: 0.3457 - loss: 6.2510 - val_accuracy: 0.2667 - val_loss: 6.0174\n",
            "Epoch 14/20\n",
            "\u001b[1m8/8\u001b[0m \u001b[32m━━━━━━━━━━━━━━━━━━━━\u001b[0m\u001b[37m\u001b[0m \u001b[1m0s\u001b[0m 16ms/step - accuracy: 0.3904 - loss: 5.5231 - val_accuracy: 0.2533 - val_loss: 6.0174\n",
            "Epoch 15/20\n",
            "\u001b[1m8/8\u001b[0m \u001b[32m━━━━━━━━━━━━━━━━━━━━\u001b[0m\u001b[37m\u001b[0m \u001b[1m0s\u001b[0m 17ms/step - accuracy: 0.3628 - loss: 5.4517 - val_accuracy: 0.2533 - val_loss: 6.0174\n",
            "Epoch 16/20\n",
            "\u001b[1m8/8\u001b[0m \u001b[32m━━━━━━━━━━━━━━━━━━━━\u001b[0m\u001b[37m\u001b[0m \u001b[1m0s\u001b[0m 17ms/step - accuracy: 0.3725 - loss: 5.5470 - val_accuracy: 0.2667 - val_loss: 6.0174\n",
            "Epoch 17/20\n",
            "\u001b[1m8/8\u001b[0m \u001b[32m━━━━━━━━━━━━━━━━━━━━\u001b[0m\u001b[37m\u001b[0m \u001b[1m0s\u001b[0m 17ms/step - accuracy: 0.3579 - loss: 5.0617 - val_accuracy: 0.2667 - val_loss: 6.0174\n",
            "Epoch 18/20\n",
            "\u001b[1m8/8\u001b[0m \u001b[32m━━━━━━━━━━━━━━━━━━━━\u001b[0m\u001b[37m\u001b[0m \u001b[1m0s\u001b[0m 17ms/step - accuracy: 0.3841 - loss: 5.3066 - val_accuracy: 0.2667 - val_loss: 6.0174\n",
            "Epoch 19/20\n",
            "\u001b[1m8/8\u001b[0m \u001b[32m━━━━━━━━━━━━━━━━━━━━\u001b[0m\u001b[37m\u001b[0m \u001b[1m0s\u001b[0m 19ms/step - accuracy: 0.3763 - loss: 5.3647 - val_accuracy: 0.2533 - val_loss: 6.0174\n",
            "Epoch 20/20\n",
            "\u001b[1m8/8\u001b[0m \u001b[32m━━━━━━━━━━━━━━━━━━━━\u001b[0m\u001b[37m\u001b[0m \u001b[1m0s\u001b[0m 19ms/step - accuracy: 0.3963 - loss: 6.0724 - val_accuracy: 0.2533 - val_loss: 6.0174\n"
          ]
        },
        {
          "output_type": "execute_result",
          "data": {
            "text/plain": [
              "<keras.src.callbacks.history.History at 0x7e1b6a6c79d0>"
            ]
          },
          "metadata": {},
          "execution_count": 499
        }
      ]
    },
    {
      "cell_type": "code",
      "source": [
        "model.save(\"hello.h5\")"
      ],
      "metadata": {
        "colab": {
          "base_uri": "https://localhost:8080/"
        },
        "id": "ewq5MNJkp-SB",
        "outputId": "c5893a83-f708-465e-c007-7b95f913153b"
      },
      "execution_count": null,
      "outputs": [
        {
          "output_type": "stream",
          "name": "stderr",
          "text": [
            "WARNING:absl:You are saving your model as an HDF5 file via `model.save()` or `keras.saving.save_model(model)`. This file format is considered legacy. We recommend using instead the native Keras format, e.g. `model.save('my_model.keras')` or `keras.saving.save_model(model, 'my_model.keras')`. \n"
          ]
        }
      ]
    },
    {
      "cell_type": "code",
      "source": [
        "import matplotlib.pyplot as plt\n",
        "\n",
        "# Plot training and validation loss\n",
        "plt.plot(model.history.history[\"loss\"], label=\"Training Loss\")  # x-axis is implicitly the epoch\n",
        "plt.plot(model.history.history[\"val_loss\"], label=\"Validation Loss\")\n",
        "plt.legend()\n",
        "plt.xlabel(\"Epochs\")\n",
        "plt.ylabel(\"Loss\")\n",
        "plt.title(\"Training and Validation Loss\")\n",
        "plt.show()"
      ],
      "metadata": {
        "id": "9coaANDavDq4",
        "colab": {
          "base_uri": "https://localhost:8080/",
          "height": 472
        },
        "outputId": "950e3aeb-796c-4245-823b-61a1bdf771a6"
      },
      "execution_count": null,
      "outputs": [
        {
          "output_type": "display_data",
          "data": {
            "text/plain": [
              "<Figure size 640x480 with 1 Axes>"
            ],
            "image/png": "[encoded data removed]"
          },
          "metadata": {}
        }
      ]
    },
    {
      "cell_type": "code",
      "source": [],
      "metadata": {
        "id": "Ij1l5EO2ug6T"
      },
      "execution_count": null,
      "outputs": []
    }
  ]
}